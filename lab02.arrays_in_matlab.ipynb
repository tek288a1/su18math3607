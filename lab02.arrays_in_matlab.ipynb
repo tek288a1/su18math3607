{
 "cells": [
  {
   "cell_type": "markdown",
   "metadata": {},
   "source": [
    "# Lab 2. Arrays in MatLab\n",
    "\n",
    "From Au17: see ``lec04.pdf``, ``lec05.pdf``, ``lec06.pdf``, and ``lec07.pdf``"
   ]
  },
  {
   "cell_type": "code",
   "execution_count": 1,
   "metadata": {},
   "outputs": [],
   "source": [
    "format short, format compact"
   ]
  },
  {
   "cell_type": "markdown",
   "metadata": {},
   "source": [
    "In order to explore numerous interesting applications using MatLab, it is essential to handle efficiently a large amount of data store in the form of **vectors** or **matrices**, which are collectively called **arrays**."
   ]
  },
  {
   "cell_type": "markdown",
   "metadata": {},
   "source": [
    "## Creating vectors"
   ]
  },
  {
   "cell_type": "markdown",
   "metadata": {},
   "source": [
    "### Row vectors\n",
    "\n",
    "A row vector is created by listing its elements within a pair of brackets separated by either spaces or commas. For example,"
   ]
  },
  {
   "cell_type": "code",
   "execution_count": 2,
   "metadata": {},
   "outputs": [
    {
     "name": "stdout",
     "output_type": "stream",
     "text": [
      "x =\n",
      "     2     3    -6\n"
     ]
    }
   ],
   "source": [
    "x = [2 3 -6]"
   ]
  },
  {
   "cell_type": "markdown",
   "metadata": {},
   "source": [
    "or"
   ]
  },
  {
   "cell_type": "code",
   "execution_count": 3,
   "metadata": {},
   "outputs": [
    {
     "name": "stdout",
     "output_type": "stream",
     "text": [
      "x =\n",
      "     2     3    -6\n"
     ]
    }
   ],
   "source": [
    "x = [2, 3, -6]"
   ]
  },
  {
   "cell_type": "markdown",
   "metadata": {},
   "source": [
    "### Colum vectors\n",
    "A column vector is created by listing its elements within a pair of brackets separated by semicolons. For example,"
   ]
  },
  {
   "cell_type": "code",
   "execution_count": 4,
   "metadata": {},
   "outputs": [
    {
     "name": "stdout",
     "output_type": "stream",
     "text": [
      "w =\n",
      "     2\n",
      "     3\n",
      "    -6\n"
     ]
    }
   ],
   "source": [
    "w = [2; 3; -6]"
   ]
  },
  {
   "cell_type": "markdown",
   "metadata": {},
   "source": [
    "Alternately, one can _transpose_ a row vector to obtain a column vector."
   ]
  },
  {
   "cell_type": "code",
   "execution_count": 5,
   "metadata": {},
   "outputs": [
    {
     "name": "stdout",
     "output_type": "stream",
     "text": [
      "w =\n",
      "     2\n",
      "     3\n",
      "    -6\n"
     ]
    }
   ],
   "source": [
    "w = [2, 3, -6].'"
   ]
  },
  {
   "cell_type": "markdown",
   "metadata": {},
   "source": [
    "**Note:** The MatLab expression ``x.'`` corresponds to $\\mathbf{x}^{\\mathrm{T}}$, the  transpose of $\\mathbf{x}$, while ``x'`` corresponds to $\\mathbf{x}^{\\mathrm{H}} = (\\mathbf{x}^*)^{\\mathrm{T}}$, the  Hermitian or conjugate transpose of $\\mathbf{x}$."
   ]
  },
  {
   "cell_type": "markdown",
   "metadata": {},
   "source": [
    "## Creating matrices"
   ]
  },
  {
   "cell_type": "markdown",
   "metadata": {},
   "source": [
    "A matrix is formed by listing all its elements within a pair of brackets with the elements in each row separated by either spaces or commas and the rows separated by semicolons. For example,"
   ]
  },
  {
   "cell_type": "code",
   "execution_count": 6,
   "metadata": {},
   "outputs": [
    {
     "name": "stdout",
     "output_type": "stream",
     "text": [
      "A =\n",
      "     1     2     3\n",
      "     4     5     6\n",
      "     7     8     9\n"
     ]
    }
   ],
   "source": [
    "A = [1 2 3; 4 5 6; 7 8 9]"
   ]
  },
  {
   "cell_type": "markdown",
   "metadata": {},
   "source": [
    "## Accessing elements of arrays"
   ]
  },
  {
   "cell_type": "markdown",
   "metadata": {},
   "source": [
    "* Access the $i$th element of $\\mathbf{x}$ by\n",
    "```\n",
    ">> x(i)\n",
    "```\n",
    "* Access the element in the $i$th row and the $j$th column of $A$ by\n",
    "```\n",
    ">> A(i,j)\n",
    "```\n",
    "* Assign values to a specific element by\n",
    "```\n",
    ">> x(i) = 7\n",
    "```\n",
    "or \n",
    "```\n",
    ">> A(i,j) = -sqrt(5)\n",
    "```\n",
    "* Indices start at 1 in MatLab, not at 0!"
   ]
  },
  {
   "cell_type": "markdown",
   "metadata": {},
   "source": [
    "**Question.** Let `A` be a $3 \\times 3$ matrix in MatLab. What do you think the value of `A(4)`? Can you guess a rule for syntax `A(i)`?"
   ]
  },
  {
   "cell_type": "markdown",
   "metadata": {},
   "source": [
    "## Operations involving arrays"
   ]
  },
  {
   "cell_type": "markdown",
   "metadata": {},
   "source": [
    "Viewing (column) vectors as matrices with only one column, we summarize operations among vectors and matrices soley in terms of matrices when no confusion arises. \n",
    "\n",
    "* **Addition/subtraction:** \"`+`\" and \"`-`\"\n",
    "  * matrix $\\pm$ matrix\n",
    "  * scalar $\\pm$ matrix\n",
    "* **Multiplication:** \"`*`\"\n",
    "  * matrix by matrix\n",
    "  * matrix by scalar\n",
    "* **Inner and outer products:** For a column vector `x`,\n",
    "  * inner product: `x' * x`\n",
    "  * outer product: `x * x'`\n",
    "* **Elementwise operators:** \"`.*`\", \"`./`\", \"`.^`\"\n",
    " \n",
    "  For example, given $\\mathtt{v} = (v_1, v_2, \\ldots, v_n)$ \n",
    "  and $\\mathtt{w} = (w_1, w_2, \\ldots, w_n)$, \n",
    "  $$\\mathtt{v .* w} = (v_1 w_1, v_2 w_2, \\ldots, v_n w_n).$$\n",
    "  \n",
    "* **Square matrix to a positive integral power:** \"`^`\"\n",
    "\n",
    "  For $\\mathtt{A} \\in \\mathbb{R}^{m \\times m}$, \n",
    "  ```\n",
    "  >> A^5\n",
    "  ```\n",
    "  and\n",
    "  ```\n",
    "  >> A*A*A*A*A\n",
    "  ```\n",
    "  yield the same result. \n",
    "  \n",
    "* **Inversion of a square matrix:** \"`inv`\"\n",
    "\n",
    "  For $\\mathtt{A} \\in \\mathbb{R}^{m \\times m}$, \n",
    "  ```\n",
    "  >> inv(A)\n",
    "  ```\n",
    "  and\n",
    "  ```\n",
    "  >> A^(-1)\n",
    "  ```\n",
    "  produce the same result. "
   ]
  },
  {
   "cell_type": "markdown",
   "metadata": {},
   "source": [
    "## More ways of creating arrays"
   ]
  },
  {
   "cell_type": "markdown",
   "metadata": {},
   "source": [
    "### Arithmetic progressions"
   ]
  },
  {
   "cell_type": "markdown",
   "metadata": {
    "slideshow": {
     "slide_type": "slide"
    }
   },
   "source": [
    "In MatLab, we can create a row vector of an arithmetic progression easily.\n",
    "\n",
    "**Colon (`:`) operator**:\n",
    "* `a:d:b` creates a progression from `a` to `b` with increment `d`. \n",
    "* When `b-a` is not an integer multiple of `d`, the progression stops at `a + fix((b-a)/d)`. \n",
    "* When `d = 1`, one may simply use `a:b`."
   ]
  },
  {
   "cell_type": "code",
   "execution_count": 7,
   "metadata": {},
   "outputs": [
    {
     "name": "stdout",
     "output_type": "stream",
     "text": [
      "ans =\n",
      "     0     2     4     6     8    10\n"
     ]
    }
   ],
   "source": [
    "0:2:10 "
   ]
  },
  {
   "cell_type": "code",
   "execution_count": 8,
   "metadata": {},
   "outputs": [
    {
     "name": "stdout",
     "output_type": "stream",
     "text": [
      "ans =\n",
      "     0     2     4     6     8    10\n"
     ]
    }
   ],
   "source": [
    "0:2:11"
   ]
  },
  {
   "cell_type": "code",
   "execution_count": 9,
   "metadata": {},
   "outputs": [
    {
     "name": "stdout",
     "output_type": "stream",
     "text": [
      "ans =\n",
      "     0     1     2     3     4     5     6     7     8     9    10\n"
     ]
    }
   ],
   "source": [
    "0:10"
   ]
  },
  {
   "cell_type": "markdown",
   "metadata": {},
   "source": [
    "**Explore.**  See what happens when $\\mathtt{b} < \\mathtt{a}$? Try different `d`'s."
   ]
  },
  {
   "cell_type": "markdown",
   "metadata": {},
   "source": [
    "**`linspace` function:**\n",
    "* `linspace(a, b, n)` creates the arithmetic progression of `n` terms starting at `a` and ending at `b`.\n",
    "* `linspace` is more suitable when the number of elements in a progression is known. The colon operator is more appropriate when the difference between successive terms is known."
   ]
  },
  {
   "cell_type": "code",
   "execution_count": 10,
   "metadata": {},
   "outputs": [
    {
     "name": "stdout",
     "output_type": "stream",
     "text": [
      "ans =\n",
      "     0     1     2     3     4     5     6     7     8     9    10\n"
     ]
    }
   ],
   "source": [
    "linspace(0, 10, 11)"
   ]
  },
  {
   "cell_type": "markdown",
   "metadata": {},
   "source": [
    "**Example.** Create the *periodic* arithmetic progression \n",
    "$$(1,2,3,4,0,1,2,3,4,0,1,2,3,4,0)$$\n",
    "using the colon operator and `mod` function. "
   ]
  },
  {
   "cell_type": "code",
   "execution_count": 11,
   "metadata": {},
   "outputs": [
    {
     "name": "stdout",
     "output_type": "stream",
     "text": [
      "ans =\n",
      "  Columns 1 through 13\n",
      "     1     2     3     4     0     1     2     3     4     0     1     2     3\n",
      "  Columns 14 through 15\n",
      "     4     0\n"
     ]
    }
   ],
   "source": [
    "% Answer\n",
    "mod((1:15), 5)"
   ]
  },
  {
   "cell_type": "markdown",
   "metadata": {},
   "source": [
    "**Exercise.** Create the following row vectors using ONE MatLab statement.\n",
    "1. $\\mathbf{v} = (1,0,1,0,1,0,1,0,1,0,1,0,1,0,1,0,)$\n",
    "2. $\\mathbf{w} = (1,2,3,4,1,2,3,4,1,2,3,4)$"
   ]
  },
  {
   "cell_type": "markdown",
   "metadata": {},
   "source": [
    "### Geometric and other progressions"
   ]
  },
  {
   "cell_type": "markdown",
   "metadata": {},
   "source": [
    "Elementwise operations such as \"`.*`\", \"`./`\", and \"`.^`\" are useful in generating progression other than arithmetic ones. "
   ]
  },
  {
   "cell_type": "code",
   "execution_count": 12,
   "metadata": {},
   "outputs": [
    {
     "name": "stdout",
     "output_type": "stream",
     "text": [
      "ans =\n",
      "  Columns 1 through 6\n",
      "           1           2           4           8          16          32\n",
      "  Columns 7 through 11\n",
      "          64         128         256         512        1024\n"
     ]
    }
   ],
   "source": [
    "2 .^ [0:10]"
   ]
  },
  {
   "cell_type": "code",
   "execution_count": 13,
   "metadata": {},
   "outputs": [
    {
     "name": "stdout",
     "output_type": "stream",
     "text": [
      "ans =\n",
      "     1     4     9    16    25    36    49    64    81   100\n"
     ]
    }
   ],
   "source": [
    "[1:10] .^ 2"
   ]
  },
  {
   "cell_type": "code",
   "execution_count": 14,
   "metadata": {},
   "outputs": [
    {
     "name": "stdout",
     "output_type": "stream",
     "text": [
      "ans =\n",
      "         0    0.5000    0.8660    1.0000    0.8660    0.5000         0\n"
     ]
    }
   ],
   "source": [
    "sind(0:30:180)"
   ]
  },
  {
   "cell_type": "code",
   "execution_count": null,
   "metadata": {},
   "outputs": [],
   "source": []
  },
  {
   "cell_type": "markdown",
   "metadata": {},
   "source": [
    "### Building an array out of arrays"
   ]
  },
  {
   "cell_type": "markdown",
   "metadata": {},
   "source": [
    "### Creating an entire matrix in one statement"
   ]
  },
  {
   "cell_type": "markdown",
   "metadata": {},
   "source": [
    "### Creating matrices using diagonals"
   ]
  },
  {
   "cell_type": "markdown",
   "metadata": {},
   "source": [
    "### Indices as vectors"
   ]
  },
  {
   "cell_type": "markdown",
   "metadata": {},
   "source": [
    "## Size of arrays"
   ]
  },
  {
   "cell_type": "markdown",
   "metadata": {},
   "source": [
    "## Random vectors and matrices"
   ]
  },
  {
   "cell_type": "markdown",
   "metadata": {},
   "source": [
    "## Accessing elements of arrays (continued)"
   ]
  },
  {
   "cell_type": "markdown",
   "metadata": {},
   "source": [
    "## Vector and matrix norms"
   ]
  },
  {
   "cell_type": "markdown",
   "metadata": {},
   "source": [
    "## Tables using matrices"
   ]
  },
  {
   "cell_type": "markdown",
   "metadata": {},
   "source": [
    "## Data manipulation"
   ]
  },
  {
   "cell_type": "code",
   "execution_count": null,
   "metadata": {},
   "outputs": [],
   "source": []
  }
 ],
 "metadata": {
  "kernelspec": {
   "display_name": "Matlab",
   "language": "matlab",
   "name": "matlab"
  },
  "language_info": {
   "codemirror_mode": "octave",
   "file_extension": ".m",
   "help_links": [
    {
     "text": "MetaKernel Magics",
     "url": "https://github.com/calysto/metakernel/blob/master/metakernel/magics/README.md"
    }
   ],
   "mimetype": "text/x-octave",
   "name": "matlab",
   "version": "0.15.0"
  }
 },
 "nbformat": 4,
 "nbformat_minor": 2
}
