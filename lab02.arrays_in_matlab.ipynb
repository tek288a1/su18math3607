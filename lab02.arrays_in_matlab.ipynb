{
 "cells": [
  {
   "cell_type": "markdown",
   "metadata": {},
   "source": [
    "# Lab 2. Arrays in MatLab\n"
   ]
  },
  {
   "cell_type": "markdown",
   "metadata": {},
   "source": [
    "## Table of Contents\n",
    " * [Creating vectors](#creating_vectors)\n",
    " * [Creating matrices](#creating_matrices)\n",
    " * [Accessing elements of arrays](#accessing_elements_of_arrays)\n",
    " * [Operations involving arrays](#operations_involving_arrays)\n",
    " * [More ways of creating arrays](#more_ways_of_creating_arrays)\n",
    "     * [Arithmetic progressions](#arithmetic_progressions)\n",
    "     * [Geometric and other progressions](#geometric_and_other_progressions)\n",
    "     * [Building an array out of arrays](#building_an_array_out_of_arrays)\n",
    "     * [Size of arrays](#size_of_arrays)\n",
    "     * [Creating an entire matrix in one statement](#creating_an_entire_matrix_in_one_statement)\n",
    "     * [Creating matrices using diagonals](#creating_matrices_using_diagonals)\n",
    "     * [Indices as vectors](#indices_as_vectors)"
   ]
  },
  {
   "cell_type": "code",
   "execution_count": 1,
   "metadata": {},
   "outputs": [],
   "source": [
    "format short, format compact"
   ]
  },
  {
   "cell_type": "markdown",
   "metadata": {},
   "source": [
    "In order to explore numerous interesting applications using MatLab, it is essential to handle efficiently a large amount of data store in the form of **vectors** or **matrices**, which are collectively called **arrays**."
   ]
  },
  {
   "cell_type": "markdown",
   "metadata": {},
   "source": [
    "<a id='creating_vectors'></a>\n",
    "## Creating vectors"
   ]
  },
  {
   "cell_type": "markdown",
   "metadata": {},
   "source": [
    "### Row vectors\n",
    "\n",
    "A row vector is created by listing its elements within a pair of brackets separated by either spaces or commas. For example,"
   ]
  },
  {
   "cell_type": "code",
   "execution_count": 2,
   "metadata": {},
   "outputs": [
    {
     "name": "stdout",
     "output_type": "stream",
     "text": [
      "x =\n",
      "     2     3    -6\n"
     ]
    }
   ],
   "source": [
    "x = [2 3 -6]"
   ]
  },
  {
   "cell_type": "markdown",
   "metadata": {},
   "source": [
    "or"
   ]
  },
  {
   "cell_type": "code",
   "execution_count": 3,
   "metadata": {},
   "outputs": [
    {
     "name": "stdout",
     "output_type": "stream",
     "text": [
      "x =\n",
      "     2     3    -6\n"
     ]
    }
   ],
   "source": [
    "x = [2, 3, -6]"
   ]
  },
  {
   "cell_type": "markdown",
   "metadata": {},
   "source": [
    "### Column vectors\n",
    "A column vector is created by listing its elements within a pair of brackets separated by semicolons. For example,"
   ]
  },
  {
   "cell_type": "code",
   "execution_count": 4,
   "metadata": {},
   "outputs": [
    {
     "name": "stdout",
     "output_type": "stream",
     "text": [
      "w =\n",
      "     2\n",
      "     3\n",
      "    -6\n"
     ]
    }
   ],
   "source": [
    "w = [2; 3; -6]"
   ]
  },
  {
   "cell_type": "markdown",
   "metadata": {},
   "source": [
    "Alternately, one can _transpose_ a row vector to obtain a column vector."
   ]
  },
  {
   "cell_type": "code",
   "execution_count": 5,
   "metadata": {},
   "outputs": [
    {
     "name": "stdout",
     "output_type": "stream",
     "text": [
      "w =\n",
      "     2\n",
      "     3\n",
      "    -6\n"
     ]
    }
   ],
   "source": [
    "w = [2, 3, -6].'"
   ]
  },
  {
   "cell_type": "markdown",
   "metadata": {},
   "source": [
    "**Note:** The MatLab expression ``x.'`` corresponds to $\\mathbf{x}^{\\mathrm{T}}$, the  transpose of $\\mathbf{x}$, while ``x'`` corresponds to $\\mathbf{x}^{\\mathrm{H}} = (\\mathbf{x}^*)^{\\mathrm{T}}$, the  Hermitian or conjugate transpose of $\\mathbf{x}$."
   ]
  },
  {
   "cell_type": "markdown",
   "metadata": {},
   "source": [
    "<a id='creating_matrices'></a>\n",
    "## Creating matrices"
   ]
  },
  {
   "cell_type": "markdown",
   "metadata": {},
   "source": [
    "A matrix is formed by listing all its elements within a pair of brackets with the elements in each row separated by either spaces or commas and the rows separated by semicolons. For example,"
   ]
  },
  {
   "cell_type": "code",
   "execution_count": 6,
   "metadata": {},
   "outputs": [
    {
     "name": "stdout",
     "output_type": "stream",
     "text": [
      "A =\n",
      "     1     2     3\n",
      "     4     5     6\n",
      "     7     8     9\n"
     ]
    }
   ],
   "source": [
    "A = [1 2 3; 4 5 6; 7 8 9]"
   ]
  },
  {
   "cell_type": "markdown",
   "metadata": {},
   "source": [
    "<a id='accessing_elements_of_arrays'></a>\n",
    "## Accessing elements of arrays"
   ]
  },
  {
   "cell_type": "markdown",
   "metadata": {},
   "source": [
    "* Access the $i$th element of $\\mathbf{x}$ by\n",
    "```\n",
    ">> x(i)\n",
    "```\n",
    "* Access the element in the $i$th row and the $j$th column of $A$ by\n",
    "```\n",
    ">> A(i,j)\n",
    "```\n",
    "* Assign values to a specific element by\n",
    "```\n",
    ">> x(i) = 7\n",
    "```\n",
    "or \n",
    "```\n",
    ">> A(i,j) = -sqrt(5)\n",
    "```\n",
    "* Indices start at 1 in MatLab, not at 0!"
   ]
  },
  {
   "cell_type": "markdown",
   "metadata": {},
   "source": [
    "**Question.** Let `A` be a $3 \\times 3$ matrix in MatLab. What do you think the value of `A(4)`? Can you guess a rule for `A(i)`?"
   ]
  },
  {
   "cell_type": "code",
   "execution_count": 7,
   "metadata": {},
   "outputs": [
    {
     "name": "stdout",
     "output_type": "stream",
     "text": [
      "A =\n",
      "     1     2     3\n",
      "     4     5     6\n",
      "     7     8     9\n"
     ]
    }
   ],
   "source": [
    "A = [1 2 3; 4 5 6; 7 8 9]"
   ]
  },
  {
   "cell_type": "markdown",
   "metadata": {},
   "source": [
    "<a id='operations_involving_arrays'></a>\n",
    "## Operations involving arrays"
   ]
  },
  {
   "cell_type": "markdown",
   "metadata": {},
   "source": [
    "Viewing (column) vectors as matrices with only one column, we summarize operations among vectors and matrices soley in terms of matrices when no confusion arises. \n",
    "\n",
    "* **Addition/subtraction:** \"`+`\" and \"`-`\"\n",
    "  * matrix $\\pm$ matrix\n",
    "  * scalar $\\pm$ matrix\n",
    "* **Multiplication:** \"`*`\"\n",
    "  * matrix by matrix\n",
    "  * matrix by scalar\n",
    "* **Inner and outer products:** For a column vector `x`,\n",
    "  * inner product: `x' * x`\n",
    "  * outer product: `x * x'`\n",
    "* **Elementwise operators:** \"`.*`\", \"`./`\", \"`.^`\"\n",
    " \n",
    "  For example, given $\\mathtt{v} = (v_1, v_2, \\ldots, v_n)$ \n",
    "  and $\\mathtt{w} = (w_1, w_2, \\ldots, w_n)$, \n",
    "  $$\\mathtt{v .* w} = (v_1 w_1, v_2 w_2, \\ldots, v_n w_n).$$\n",
    "  \n",
    "* **Square matrix to a positive integral power:** \"`^`\"\n",
    "\n",
    "  For $\\mathtt{A} \\in \\mathbb{R}^{m \\times m}$, \n",
    "  ```\n",
    "  >> A^5\n",
    "  ```\n",
    "  and\n",
    "  ```\n",
    "  >> A*A*A*A*A\n",
    "  ```\n",
    "  yield the same result. \n",
    "  \n",
    "* **Inversion of a square matrix:** \"`inv`\"\n",
    "\n",
    "  For $\\mathtt{A} \\in \\mathbb{R}^{m \\times m}$, \n",
    "  ```\n",
    "  >> inv(A)\n",
    "  ```\n",
    "  and\n",
    "  ```\n",
    "  >> A^(-1)\n",
    "  ```\n",
    "  produce the same result. "
   ]
  },
  {
   "cell_type": "markdown",
   "metadata": {},
   "source": [
    "<a id='more_ways_of_creating_arrays'></a>\n",
    "## More ways of creating arrays"
   ]
  },
  {
   "cell_type": "markdown",
   "metadata": {},
   "source": [
    "<a id='arithmetic_progressions'></a>\n",
    "### Arithmetic progressions"
   ]
  },
  {
   "cell_type": "markdown",
   "metadata": {
    "slideshow": {
     "slide_type": "slide"
    }
   },
   "source": [
    "In MatLab, we can create a row vector of an arithmetic progression easily.\n",
    "\n",
    "**Colon (`:`) operator**:\n",
    "* `a:d:b` creates a progression from `a` to `b` with increment `d`. \n",
    "* When `b-a` is not an integer multiple of `d`, the progression stops at `a + fix((b-a)/d)`. \n",
    "* When `d = 1`, one may simply use `a:b`."
   ]
  },
  {
   "cell_type": "code",
   "execution_count": 8,
   "metadata": {},
   "outputs": [
    {
     "name": "stdout",
     "output_type": "stream",
     "text": [
      "ans =\n",
      "     0     2     4     6     8    10\n"
     ]
    }
   ],
   "source": [
    "0:2:10"
   ]
  },
  {
   "cell_type": "code",
   "execution_count": 9,
   "metadata": {},
   "outputs": [
    {
     "name": "stdout",
     "output_type": "stream",
     "text": [
      "ans =\n",
      "     0     2     4     6     8    10\n"
     ]
    }
   ],
   "source": [
    "0:2:11"
   ]
  },
  {
   "cell_type": "code",
   "execution_count": 10,
   "metadata": {},
   "outputs": [
    {
     "name": "stdout",
     "output_type": "stream",
     "text": [
      "ans =\n",
      "     0     1     2     3     4     5     6     7     8     9    10\n"
     ]
    }
   ],
   "source": [
    "0:10"
   ]
  },
  {
   "cell_type": "code",
   "execution_count": 11,
   "metadata": {},
   "outputs": [
    {
     "name": "stdout",
     "output_type": "stream",
     "text": [
      "ans =\n",
      "     0     1     2     3     4     5     6     7     8     9    10\n"
     ]
    }
   ],
   "source": [
    "0:1:10"
   ]
  },
  {
   "cell_type": "markdown",
   "metadata": {},
   "source": [
    "**Explore.**  See what happens when $\\mathtt{b} < \\mathtt{a}$? Try different $\\mathtt{d}$'s."
   ]
  },
  {
   "cell_type": "markdown",
   "metadata": {},
   "source": [
    "**`linspace` function:**\n",
    "* `linspace(a, b, n)` creates the arithmetic progression of $n$ terms starting at $a$ and ending at $b$.\n",
    "* `linspace` is more suitable when the number of elements in a progression is known. The colon operator is more appropriate when the difference between successive terms is known."
   ]
  },
  {
   "cell_type": "code",
   "execution_count": 12,
   "metadata": {},
   "outputs": [
    {
     "name": "stdout",
     "output_type": "stream",
     "text": [
      "ans =\n",
      "     0     1     2     3     4     5     6     7     8     9    10\n"
     ]
    }
   ],
   "source": [
    "linspace(0, 10, 11)"
   ]
  },
  {
   "cell_type": "code",
   "execution_count": 13,
   "metadata": {},
   "outputs": [
    {
     "name": "stdout",
     "output_type": "stream",
     "text": [
      "ans =\n",
      "  Columns 1 through 7\n",
      "         0    1.1111    2.2222    3.3333    4.4444    5.5556    6.6667\n",
      "  Columns 8 through 10\n",
      "    7.7778    8.8889   10.0000\n"
     ]
    }
   ],
   "source": [
    "linspace(0, 10, 10)"
   ]
  },
  {
   "cell_type": "markdown",
   "metadata": {},
   "source": [
    "**Example.** Create the *periodic* arithmetic progression \n",
    "$$(1,2,3,4,0,1,2,3,4,0,1,2,3,4,0)$$\n",
    "using the colon operator and `mod` function. "
   ]
  },
  {
   "cell_type": "code",
   "execution_count": 14,
   "metadata": {},
   "outputs": [
    {
     "name": "stdout",
     "output_type": "stream",
     "text": [
      "ans =\n",
      "  Columns 1 through 13\n",
      "     1     2     3     4     0     1     2     3     4     0     1     2     3\n",
      "  Columns 14 through 15\n",
      "     4     0\n"
     ]
    }
   ],
   "source": [
    "% Answer\n",
    "mod((1:15), 5)"
   ]
  },
  {
   "cell_type": "markdown",
   "metadata": {},
   "source": [
    "**Exercise.** Create the following row vectors using ONE MatLab statement.\n",
    "1. $\\mathbf{v} = (1,0,1,0,1,0,1,0,1,0,1,0,1,0,1,0,)$\n",
    "2. $\\mathbf{w} = (1,2,3,4,1,2,3,4,1,2,3,4)$"
   ]
  },
  {
   "cell_type": "markdown",
   "metadata": {},
   "source": [
    "<a id='geometric_and_other_progressions'></a>\n",
    "### Geometric and other progressions"
   ]
  },
  {
   "cell_type": "markdown",
   "metadata": {},
   "source": [
    "Elementwise operations such as \"`.*`\", \"`./`\", and \"`.^`\" are useful in generating progression other than arithmetic ones. "
   ]
  },
  {
   "cell_type": "markdown",
   "metadata": {},
   "source": [
    "**Example.** Create \n",
    "\n",
    "* $\\mathbf{v} = (1, 2, 4, 8,\\ldots, 1024)$ \n",
    "* $\\mathbf{w} = (1, 4, 9, 16, \\ldots, 100)$\n",
    "\n",
    "using ONE MATLAB statement."
   ]
  },
  {
   "cell_type": "code",
   "execution_count": 15,
   "metadata": {},
   "outputs": [
    {
     "name": "stdout",
     "output_type": "stream",
     "text": [
      "v =\n",
      "  Columns 1 through 6\n",
      "           1           2           4           8          16          32\n",
      "  Columns 7 through 11\n",
      "          64         128         256         512        1024\n"
     ]
    }
   ],
   "source": [
    "v = 2 .^ [0:10]"
   ]
  },
  {
   "cell_type": "code",
   "execution_count": 16,
   "metadata": {},
   "outputs": [
    {
     "name": "stdout",
     "output_type": "stream",
     "text": [
      "w =\n",
      "     1     4     9    16    25    36    49    64    81   100\n"
     ]
    }
   ],
   "source": [
    "w = [1:10] .^ 2"
   ]
  },
  {
   "cell_type": "markdown",
   "metadata": {},
   "source": [
    "**Example.** Create \n",
    "\n",
    "* $\\mathbf{v} = (\\sin 0^{\\circ}, \\sin 30^{\\circ}, \\sin 60^{\\circ}, \\ldots, \\sin 180^{\\circ})$ \n",
    "* $\\mathbf{w} = (e^1, e^4, e^9, \\ldots, e^{64})$\n",
    "\n",
    "using ONE MATLAB statement."
   ]
  },
  {
   "cell_type": "code",
   "execution_count": 17,
   "metadata": {},
   "outputs": [
    {
     "name": "stdout",
     "output_type": "stream",
     "text": [
      "v =\n",
      "         0    0.5000    0.8660    1.0000    0.8660    0.5000         0\n"
     ]
    }
   ],
   "source": [
    "v = sind(0:30:180)"
   ]
  },
  {
   "cell_type": "code",
   "execution_count": 18,
   "metadata": {},
   "outputs": [
    {
     "name": "stdout",
     "output_type": "stream",
     "text": [
      "w =\n",
      "  Columns 1 through 6\n",
      "   2.7183e+00   5.4598e+01   8.1031e+03   8.8861e+06   7.2005e+10   4.3112e+15\n",
      "  Columns 7 through 8\n",
      "   1.9073e+21   6.2351e+27\n"
     ]
    }
   ],
   "source": [
    "format short e\n",
    "w = exp([1:8].^2)"
   ]
  },
  {
   "cell_type": "markdown",
   "metadata": {},
   "source": [
    "<a id='building_an_array_out_of_arrays'></a>\n",
    "### Building an array out of arrays"
   ]
  },
  {
   "cell_type": "markdown",
   "metadata": {},
   "source": [
    "`reshape(A, m, n)` reshapes an array $A$ into an $m \\times n$ matrix whose elements are taken *columnwise* from $A$."
   ]
  },
  {
   "cell_type": "code",
   "execution_count": 19,
   "metadata": {},
   "outputs": [
    {
     "name": "stdout",
     "output_type": "stream",
     "text": [
      "A =\n",
      "     1     5     9    13    17\n",
      "     2     6    10    14    18\n",
      "     3     7    11    15    19\n",
      "     4     8    12    16    20\n"
     ]
    }
   ],
   "source": [
    "A = reshape(1:20, 4, 5)"
   ]
  },
  {
   "cell_type": "markdown",
   "metadata": {},
   "source": [
    "`repmat(A, m, n)` replicates the array $A$, $m$ times vertically and $n$ times horizontally."
   ]
  },
  {
   "cell_type": "code",
   "execution_count": 20,
   "metadata": {},
   "outputs": [
    {
     "name": "stdout",
     "output_type": "stream",
     "text": [
      "B =\n",
      "     1     2     1     2\n",
      "     3     4     3     4\n",
      "     1     2     1     2\n",
      "     3     4     3     4\n"
     ]
    }
   ],
   "source": [
    "B = repmat([1 2; 3 4], 2, 2)"
   ]
  },
  {
   "cell_type": "markdown",
   "metadata": {},
   "source": [
    "If $A$ and $B$ have comparable sizes, we can concatenate them:\n",
    "\n",
    "* vertically: `[A; B]`\n",
    "* horizontally: `[A B]`"
   ]
  },
  {
   "cell_type": "markdown",
   "metadata": {},
   "source": [
    "<a id='size_of_arrays'></a>\n",
    "### Size of arrays"
   ]
  },
  {
   "cell_type": "markdown",
   "metadata": {},
   "source": [
    "Let $\\mathtt{v} \\in \\mathbb{R}^m$ and $A \\in \\mathbb{R}^{m \\times n}$. Then\n",
    "\n",
    "* `length(v)` gives the number of elements of $\\mathtt{v}$, which is $m$.\n",
    "* `size(A, 1)` gives the number of rows of $A$, which is $m$.\n",
    "* `size(A, 2)` gives the number of columns of $A$, which is $n$.\n",
    "* `size(A)` outputs a two-vector $(m,n)$.\n",
    "* `numel(A)` returns the total number of elements in $A$, which is $m \\times n$.\n"
   ]
  },
  {
   "cell_type": "markdown",
   "metadata": {},
   "source": [
    "**Explore.** What are the sizes of `[ ]`, `[1:0]`, and `[1:0].'`? what are their `numel` values?"
   ]
  },
  {
   "cell_type": "markdown",
   "metadata": {},
   "source": [
    "<a id='creating_an_entire_matrix_in_one_statement'></a>\n",
    "### Creating an entire matrix in one statement"
   ]
  },
  {
   "cell_type": "markdown",
   "metadata": {},
   "source": [
    "We can create matrices consisting of all zeros or all ones easily in MATLAB."
   ]
  },
  {
   "cell_type": "code",
   "execution_count": 21,
   "metadata": {},
   "outputs": [
    {
     "name": "stdout",
     "output_type": "stream",
     "text": [
      "ans =\n",
      "     0     0     0\n",
      "     0     0     0\n",
      "     0     0     0\n"
     ]
    }
   ],
   "source": [
    "zeros(3)"
   ]
  },
  {
   "cell_type": "code",
   "execution_count": 22,
   "metadata": {},
   "outputs": [
    {
     "name": "stdout",
     "output_type": "stream",
     "text": [
      "ans =\n",
      "     0     0     0     0\n",
      "     0     0     0     0\n",
      "     0     0     0     0\n"
     ]
    }
   ],
   "source": [
    "zeros(3, 4)"
   ]
  },
  {
   "cell_type": "code",
   "execution_count": 23,
   "metadata": {},
   "outputs": [
    {
     "name": "stdout",
     "output_type": "stream",
     "text": [
      "ans =\n",
      "     1     1     1     1\n",
      "     1     1     1     1\n",
      "     1     1     1     1\n",
      "     1     1     1     1\n",
      "     1     1     1     1\n"
     ]
    }
   ],
   "source": [
    "ones(5, 4)"
   ]
  },
  {
   "cell_type": "markdown",
   "metadata": {},
   "source": [
    "Identity matrices are easy to construct."
   ]
  },
  {
   "cell_type": "code",
   "execution_count": 24,
   "metadata": {},
   "outputs": [
    {
     "name": "stdout",
     "output_type": "stream",
     "text": [
      "ans =\n",
      "     1     0     0     0\n",
      "     0     1     0     0\n",
      "     0     0     1     0\n",
      "     0     0     0     1\n"
     ]
    }
   ],
   "source": [
    "eye(4)"
   ]
  },
  {
   "cell_type": "markdown",
   "metadata": {},
   "source": [
    "**Note.** `zeros([m,n])` yields the same result as `zeros(m,n)`. The same applies to `ones`. So we can do something like this."
   ]
  },
  {
   "cell_type": "code",
   "execution_count": 25,
   "metadata": {
    "scrolled": true
   },
   "outputs": [
    {
     "name": "stdout",
     "output_type": "stream",
     "text": [
      "A =\n",
      "     1     6    11    16    21    26\n",
      "     2     7    12    17    22    27\n",
      "     3     8    13    18    23    28\n",
      "     4     9    14    19    24    29\n",
      "     5    10    15    20    25    30\n",
      "B =\n",
      "     3     3     3     3     3     3\n",
      "     3     3     3     3     3     3\n",
      "     3     3     3     3     3     3\n",
      "     3     3     3     3     3     3\n",
      "     3     3     3     3     3     3\n"
     ]
    }
   ],
   "source": [
    "A = reshape([1:30], 5, 6)\n",
    "B = 3*ones(size(A))"
   ]
  },
  {
   "cell_type": "markdown",
   "metadata": {},
   "source": [
    "<a id='creating_matrices_using_diagonals'></a>\n",
    "### Creating matrices using diagonals"
   ]
  },
  {
   "cell_type": "markdown",
   "metadata": {},
   "source": [
    "We can create a matrix by specifying the diagonal elements. Conversely, the diagonal entries of a certain matrix can be extracted as a vector. "
   ]
  },
  {
   "cell_type": "code",
   "execution_count": 26,
   "metadata": {},
   "outputs": [
    {
     "name": "stdout",
     "output_type": "stream",
     "text": [
      "v =\n",
      "            0   2.0000e-01   4.0000e-01   6.0000e-01   8.0000e-01   1.0000e+00\n",
      "D =\n",
      "            0            0            0            0            0            0\n",
      "            0   2.0000e-01            0            0            0            0\n",
      "            0            0   4.0000e-01            0            0            0\n",
      "            0            0            0   6.0000e-01            0            0\n",
      "            0            0            0            0   8.0000e-01            0\n",
      "            0            0            0            0            0   1.0000e+00\n"
     ]
    }
   ],
   "source": [
    "v = linspace(0, 1, 6)\n",
    "D = diag(v)"
   ]
  },
  {
   "cell_type": "code",
   "execution_count": 27,
   "metadata": {},
   "outputs": [
    {
     "name": "stdout",
     "output_type": "stream",
     "text": [
      "ans =\n",
      "     1\n",
      "     7\n",
      "    13\n",
      "    19\n",
      "    25\n"
     ]
    }
   ],
   "source": [
    "diag(A)"
   ]
  },
  {
   "cell_type": "code",
   "execution_count": 28,
   "metadata": {},
   "outputs": [
    {
     "name": "stdout",
     "output_type": "stream",
     "text": [
      "ans =\n",
      "     6\n",
      "    12\n",
      "    18\n",
      "    24\n",
      "    30\n"
     ]
    }
   ],
   "source": [
    "diag(A, 1)"
   ]
  },
  {
   "cell_type": "code",
   "execution_count": 29,
   "metadata": {},
   "outputs": [
    {
     "name": "stdout",
     "output_type": "stream",
     "text": [
      "ans =\n",
      "     2\n",
      "     8\n",
      "    14\n",
      "    20\n"
     ]
    }
   ],
   "source": [
    "diag(A, -1)"
   ]
  },
  {
   "cell_type": "markdown",
   "metadata": {},
   "source": [
    "We can also extract upper or lower triangular entries (above and including $k$th diagonal) of a given matrix."
   ]
  },
  {
   "cell_type": "code",
   "execution_count": 30,
   "metadata": {},
   "outputs": [
    {
     "name": "stdout",
     "output_type": "stream",
     "text": [
      "ans =\n",
      "     1     6    11    16    21    26\n",
      "     0     7    12    17    22    27\n",
      "     0     0    13    18    23    28\n",
      "     0     0     0    19    24    29\n",
      "     0     0     0     0    25    30\n"
     ]
    }
   ],
   "source": [
    "triu(A)"
   ]
  },
  {
   "cell_type": "code",
   "execution_count": 31,
   "metadata": {},
   "outputs": [
    {
     "name": "stdout",
     "output_type": "stream",
     "text": [
      "ans =\n",
      "     0     6    11    16    21    26\n",
      "     0     0    12    17    22    27\n",
      "     0     0     0    18    23    28\n",
      "     0     0     0     0    24    29\n",
      "     0     0     0     0     0    30\n"
     ]
    }
   ],
   "source": [
    "triu(A, 1)"
   ]
  },
  {
   "cell_type": "code",
   "execution_count": 32,
   "metadata": {},
   "outputs": [
    {
     "name": "stdout",
     "output_type": "stream",
     "text": [
      "ans =\n",
      "     1     6    11     0     0     0\n",
      "     2     7    12    17     0     0\n",
      "     3     8    13    18    23     0\n",
      "     4     9    14    19    24    29\n",
      "     5    10    15    20    25    30\n"
     ]
    }
   ],
   "source": [
    "tril(A,2)"
   ]
  },
  {
   "cell_type": "markdown",
   "metadata": {},
   "source": [
    "<a id='indices_as_vectors'></a>\n",
    "### Indices as vectors"
   ]
  },
  {
   "cell_type": "markdown",
   "metadata": {},
   "source": [
    "We can access multiple elements of an array using vectors. Let $\\mathbf{v}$ be a vector and $A$ be a matrix.\n",
    "\n",
    "* `v(i:j)` returns $i$th through $j$th entries.\n",
    "* `A(i:j, k:l)` returns the intersection of rows from $i$ to $j$ and columns from $k$ to $l$.\n",
    "* `v(end)` outputs the last element of $\\mathbf{v}$.\n",
    "* One may assign values to the elements specified by indicial vectors.\n",
    "* `A(:)` turns $A$ into a column vector. "
   ]
  },
  {
   "cell_type": "code",
   "execution_count": 33,
   "metadata": {},
   "outputs": [
    {
     "name": "stdout",
     "output_type": "stream",
     "text": [
      "ans =\n",
      "   2.0000e-01   4.0000e-01   6.0000e-01\n"
     ]
    }
   ],
   "source": [
    "v(2:4)"
   ]
  },
  {
   "cell_type": "code",
   "execution_count": 34,
   "metadata": {},
   "outputs": [
    {
     "name": "stdout",
     "output_type": "stream",
     "text": [
      "ans =\n",
      "    11    16    21    26\n",
      "    12    17    22    27\n",
      "    13    18    23    28\n"
     ]
    }
   ],
   "source": [
    "A(1:3, 3:end)"
   ]
  },
  {
   "cell_type": "code",
   "execution_count": 35,
   "metadata": {
    "scrolled": true
   },
   "outputs": [
    {
     "name": "stdout",
     "output_type": "stream",
     "text": [
      "ans =\n",
      "     1\n",
      "     2\n",
      "     3\n",
      "     4\n",
      "     5\n",
      "     6\n",
      "     7\n",
      "     8\n",
      "     9\n",
      "    10\n",
      "    11\n",
      "    12\n",
      "    13\n",
      "    14\n",
      "    15\n",
      "    16\n",
      "    17\n",
      "    18\n",
      "    19\n",
      "    20\n",
      "    21\n",
      "    22\n",
      "    23\n",
      "    24\n",
      "    25\n",
      "    26\n",
      "    27\n",
      "    28\n",
      "    29\n",
      "    30\n"
     ]
    }
   ],
   "source": [
    "A(:)"
   ]
  },
  {
   "cell_type": "code",
   "execution_count": 36,
   "metadata": {},
   "outputs": [
    {
     "name": "stdout",
     "output_type": "stream",
     "text": [
      "v =\n",
      "            0   2.0000e-01   4.0000e-01   6.0000e-01   8.0000e-01   1.0000e+00\n"
     ]
    }
   ],
   "source": [
    "v"
   ]
  },
  {
   "cell_type": "code",
   "execution_count": 37,
   "metadata": {},
   "outputs": [
    {
     "name": "stdout",
     "output_type": "stream",
     "text": [
      "v =\n",
      "   7.0000e+00   2.0000e-01   4.0000e-01   6.0000e-01   8.0000e-01   1.0000e+00\n",
      "v =\n",
      "     7     0     0     0     0     0\n"
     ]
    }
   ],
   "source": [
    "v(1) = 7\n",
    "v(2:end) = 0"
   ]
  }
 ],
 "metadata": {
  "kernelspec": {
   "display_name": "Matlab",
   "language": "matlab",
   "name": "matlab"
  },
  "language_info": {
   "codemirror_mode": "octave",
   "file_extension": ".m",
   "help_links": [
    {
     "text": "MetaKernel Magics",
     "url": "https://github.com/calysto/metakernel/blob/master/metakernel/magics/README.md"
    }
   ],
   "mimetype": "text/x-octave",
   "name": "matlab",
   "version": "0.15.0"
  }
 },
 "nbformat": 4,
 "nbformat_minor": 2
}
