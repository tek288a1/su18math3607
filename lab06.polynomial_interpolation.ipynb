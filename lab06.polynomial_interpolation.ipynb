{
 "cells": [
  {
   "cell_type": "markdown",
   "metadata": {},
   "source": [
    "# Polynomial Interpolation"
   ]
  },
  {
   "cell_type": "code",
   "execution_count": 22,
   "metadata": {},
   "outputs": [],
   "source": [
    "clear, format short, format compact"
   ]
  },
  {
   "cell_type": "markdown",
   "metadata": {},
   "source": [
    "## Vandermonde Matrix\n",
    "\n",
    "Interpolate the data set $\\{ (x_j, y_j) : j \\in \\mathbb{N}[1,3] \\} = \\{(1,4), (3,2), (5,1) \\}$ with a polynomial $p_2(x) = c_1 + c_2 x + c_3 x^2$."
   ]
  },
  {
   "cell_type": "code",
   "execution_count": 23,
   "metadata": {},
   "outputs": [
    {
     "name": "stdout",
     "output_type": "stream",
     "text": [
      "c =\n",
      "    5.3750\n",
      "   -1.5000\n",
      "    0.1250\n"
     ]
    }
   ],
   "source": [
    "% x and y data points as column vectors\n",
    "xdp = [1, 3, 5]';\n",
    "ydp = [4, 2, 1]';\n",
    "n = length(xdp);\n",
    "V = xdp .^ [0:n-1];\n",
    "c = V\\ydp"
   ]
  },
  {
   "cell_type": "code",
   "execution_count": 24,
   "metadata": {},
   "outputs": [
    {
     "name": "stdout",
     "output_type": "stream",
     "text": [
      "c1 =\n",
      "    5.3750\n",
      "   -1.5000\n",
      "    0.1250\n"
     ]
    }
   ],
   "source": [
    "% using build-in function vander:\n",
    "V1 = fliplr(vander(xdp));\n",
    "c1 = V1\\ydp"
   ]
  },
  {
   "cell_type": "markdown",
   "metadata": {},
   "source": [
    "## Power form v.s. shifted power form"
   ]
  },
  {
   "cell_type": "code",
   "execution_count": 25,
   "metadata": {},
   "outputs": [
    {
     "name": "stdout",
     "output_type": "stream",
     "text": [
      "        1 + 1/27 = 1.03703703703704\n",
      "   p(1000 + 1/3) = 1.03703689575195\n",
      "p_sh(1000 + 1/3) = 1.03703703703705\n"
     ]
    }
   ],
   "source": [
    "p_sh = @(x) (x - 1000).^3 + 1;\n",
    "p = @(x) x.^3 - 3000*x.^2 + 3000000*x - 999999999;\n",
    "disp(['        1 + 1/27 = ', num2str(1 + 1/27, 15)]);\n",
    "disp(['   p(1000 + 1/3) = ', num2str(p(1000 + 1/3), 15)]);\n",
    "disp(['p_sh(1000 + 1/3) = ', num2str(p_sh(1000 + 1/3), 15)]);"
   ]
  },
  {
   "cell_type": "markdown",
   "metadata": {},
   "source": [
    "## `polyfit` function"
   ]
  },
  {
   "cell_type": "code",
   "execution_count": 2,
   "metadata": {},
   "outputs": [
    {
     "name": "stdout",
     "output_type": "stream",
     "text": [
      "ans =\n",
      "       1/8           -3/2           43/8     \n"
     ]
    }
   ],
   "source": [
    "xdp = [1 3 5];\n",
    "ydp = [4 2 1];\n",
    "n = length(xdp);\n",
    "format rat\n",
    "polyfit(xdp, ydp, n-1)"
   ]
  },
  {
   "cell_type": "code",
   "execution_count": 4,
   "metadata": {},
   "outputs": [
    {
     "name": "stdout",
     "output_type": "stream",
     "text": [
      " POLYVAL Evaluate polynomial.\n",
      "    Y = POLYVAL(P,X) returns the value of a polynomial P evaluated at X. P\n",
      "    is a vector of length N+1 whose elements are the coefficients of the\n",
      "    polynomial in descending powers.\n",
      " \n",
      "        Y = P(1)*X^N + P(2)*X^(N-1) + ... + P(N)*X + P(N+1)\n",
      " \n",
      "    If X is a matrix or vector, the polynomial is evaluated at all\n",
      "    points in X.  See POLYVALM for evaluation in a matrix sense.\n",
      " \n",
      "    [Y,DELTA] = POLYVAL(P,X,S) uses the optional output structure S created\n",
      "    by POLYFIT to generate prediction error estimates DELTA.  DELTA is an\n",
      "    estimate of the standard deviation of the error in predicting a future\n",
      "    observation at X by P(X).\n",
      " \n",
      "    If the coefficients in P are least squares estimates computed by\n",
      "    POLYFIT, and the errors in the data input to POLYFIT are independent,\n",
      "    normal, with constant variance, then Y +/- DELTA will contain at least\n",
      "    50% of future observations at X.\n",
      " \n",
      "    Y = POLYVAL(P,X,[],MU) or [Y,DELTA] = POLYVAL(P,X,S,MU) uses XHAT =\n",
      "    (X-MU(1))/MU(2) in place of X. The centering and scaling parameters MU\n",
      "    are optional output computed by POLYFIT.\n",
      " \n",
      "    Example:\n",
      "       Evaluate the polynomial p(x) = 3x^2+2x+1 at x = 5,7, and 9:\n",
      " \n",
      "       p = [3 2 1];\n",
      "       polyval(p,[5 7 9])%\n",
      " \n",
      "    Class support for inputs P,X,S,MU:\n",
      "       float: double, single\n",
      " \n",
      "    See also POLYFIT, POLYVALM.\n",
      "\n",
      "    Reference page in Doc Center\n",
      "       doc polyval\n",
      "\n",
      "    Other functions named polyval\n",
      "\n",
      "       gf/polyval    gpuArray/polyval\n",
      "\n"
     ]
    }
   ],
   "source": [
    "help polyval"
   ]
  },
  {
   "cell_type": "code",
   "execution_count": null,
   "metadata": {},
   "outputs": [],
   "source": []
  }
 ],
 "metadata": {
  "kernelspec": {
   "display_name": "Matlab",
   "language": "matlab",
   "name": "matlab"
  },
  "language_info": {
   "codemirror_mode": "octave",
   "file_extension": ".m",
   "help_links": [
    {
     "text": "MetaKernel Magics",
     "url": "https://github.com/calysto/metakernel/blob/master/metakernel/magics/README.md"
    }
   ],
   "mimetype": "text/x-octave",
   "name": "matlab",
   "version": "0.15.0"
  }
 },
 "nbformat": 4,
 "nbformat_minor": 2
}
