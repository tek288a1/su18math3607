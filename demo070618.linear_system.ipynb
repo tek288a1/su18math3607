{
 "cells": [
  {
   "cell_type": "markdown",
   "metadata": {},
   "source": [
    "# Solving Linear Systems using Gaussian Elimination"
   ]
  },
  {
   "cell_type": "code",
   "execution_count": 54,
   "metadata": {},
   "outputs": [],
   "source": [
    "clear, format compact, format short g, "
   ]
  },
  {
   "cell_type": "markdown",
   "metadata": {},
   "source": [
    "## Reduced row echelon form\n",
    "\n",
    "`rref` reduces an augmented matrix to a (reduced) row echelon form"
   ]
  },
  {
   "cell_type": "code",
   "execution_count": 55,
   "metadata": {},
   "outputs": [
    {
     "name": "stdout",
     "output_type": "stream",
     "text": [
      "ans =\n",
      "     1     0     0     1\n",
      "     0     1     0    -1\n",
      "     0     0     1     1\n"
     ]
    }
   ],
   "source": [
    "% unique solution\n",
    "A = [1 2 3;\n",
    "     4 5 6;\n",
    "     7 8 10];\n",
    "b = [2 5 9]';\n",
    "rref([A b])"
   ]
  },
  {
   "cell_type": "code",
   "execution_count": 56,
   "metadata": {},
   "outputs": [
    {
     "name": "stdout",
     "output_type": "stream",
     "text": [
      "ans =\n",
      "     1     0    -1     0\n",
      "     0     1     2     0\n",
      "     0     0     0     1\n"
     ]
    }
   ],
   "source": [
    "% no solution\n",
    "B = A;\n",
    "B(3,3) = 9;\n",
    "rref([B b])"
   ]
  },
  {
   "cell_type": "code",
   "execution_count": 57,
   "metadata": {},
   "outputs": [
    {
     "name": "stdout",
     "output_type": "stream",
     "text": [
      "ans =\n",
      "     1     0    -1     0\n",
      "     0     1     2     1\n",
      "     0     0     0     0\n"
     ]
    }
   ],
   "source": [
    "% infinitely many solution\n",
    "c = b;\n",
    "c(3) = 8;\n",
    "rref([B c])"
   ]
  },
  {
   "cell_type": "markdown",
   "metadata": {},
   "source": [
    "## Gaussian elimination with no pivoting\n",
    "\n",
    "Here is our toy problem."
   ]
  },
  {
   "cell_type": "code",
   "execution_count": 62,
   "metadata": {},
   "outputs": [
    {
     "name": "stdout",
     "output_type": "stream",
     "text": [
      "A =\n",
      "     2     2     1\n",
      "    -4     6     1\n",
      "     5    -5     3\n",
      "b =\n",
      "     6\n",
      "    -8\n",
      "     4\n"
     ]
    }
   ],
   "source": [
    "A = [2 2 1;\n",
    "    -4 6 1;\n",
    "    5 -5 3]\n",
    "b = [6 -8 4]'"
   ]
  },
  {
   "cell_type": "markdown",
   "metadata": {},
   "source": [
    "Let's save copies of these for later use."
   ]
  },
  {
   "cell_type": "code",
   "execution_count": 63,
   "metadata": {},
   "outputs": [],
   "source": [
    "A_original = A; b_original = b;"
   ]
  },
  {
   "cell_type": "markdown",
   "metadata": {},
   "source": [
    "### Elementary way\n",
    "\n",
    "**Step 1. Row reduction** \n",
    "\n",
    "Since row operations affect both the matrix $A$ and the right-hand side $\\mathbf{b}$, let's concatenate them first."
   ]
  },
  {
   "cell_type": "code",
   "execution_count": 64,
   "metadata": {},
   "outputs": [],
   "source": [
    "Ab = [A b]; % augmented matrix"
   ]
  },
  {
   "cell_type": "markdown",
   "metadata": {},
   "source": [
    "Let's zero out all elements in the first column under $(1,1)$ element:\n",
    "$$\n",
    "R_{i} \\longrightarrow R_{i} + \\alpha_i R_{1}\n",
    "$$\n",
    "where $\\alpha_i = -A_{i,1}/A_{1,1}$ for i = 2 and 3."
   ]
  },
  {
   "cell_type": "code",
   "execution_count": 67,
   "metadata": {},
   "outputs": [],
   "source": [
    "alpha = -Ab(2,1)/Ab(1,1);\n",
    "Ab(2,:) = Ab(2,:) + alpha*Ab(1,:);\n",
    "alpha = -Ab(3,1)/Ab(1,1);\n",
    "Ab(3,:) = Ab(3,:) + alpha*Ab(1,:);"
   ]
  },
  {
   "cell_type": "markdown",
   "metadata": {},
   "source": [
    "Now we zero out elements in the second column that are under (2,2) entry:\n",
    "$$\n",
    "R_3 \\longrightarrow R_3 + \\alpha R_2\n",
    "$$\n",
    "where $\\alpha = -A_{3,2}/A_{2,2}$. Note here that $A$ has been modified and is different from the original."
   ]
  },
  {
   "cell_type": "code",
   "execution_count": 68,
   "metadata": {},
   "outputs": [],
   "source": [
    "alpha = -Ab(3,2)/Ab(2,2);\n",
    "Ab(3,:) = Ab(3,:) + alpha*Ab(2,:);"
   ]
  },
  {
   "cell_type": "markdown",
   "metadata": {},
   "source": [
    "**Step 2: Backward substitution**\n",
    "\n",
    "The augmented matrix is now reduced to an echelon form which we now separate into an upper triangular matrix $U$ and a new right-hand side $\\beta$."
   ]
  },
  {
   "cell_type": "code",
   "execution_count": 71,
   "metadata": {},
   "outputs": [
    {
     "name": "stdout",
     "output_type": "stream",
     "text": [
      "U =\n",
      "            2            2            1\n",
      "            0           10            3\n",
      "            0            0          3.5\n",
      "beta =\n",
      "     6\n",
      "     4\n",
      "    -7\n"
     ]
    }
   ],
   "source": [
    "U = Ab(:,1:3)\n",
    "beta = Ab(:,end)"
   ]
  },
  {
   "cell_type": "markdown",
   "metadata": {},
   "source": [
    "We finally solve for $\\mathbf{x}$ using backward substitution."
   ]
  },
  {
   "cell_type": "code",
   "execution_count": 86,
   "metadata": {},
   "outputs": [
    {
     "name": "stdout",
     "output_type": "stream",
     "text": [
      "x =\n",
      "     3\n",
      "     1\n",
      "    -2\n"
     ]
    }
   ],
   "source": [
    "x = zeros(3,1);\n",
    "x(3) = beta(3)/U(3,3);\n",
    "x(2) = (beta(2) - U(2,3)*x(3))/U(2,2);\n",
    "x(1) = (beta(1) - U(1,2)*x(2) - U(1,3)*x(3))/U(1,1);\n",
    "x"
   ]
  },
  {
   "cell_type": "markdown",
   "metadata": {},
   "source": [
    "Let's check our work. We will calculate the difference $A\\mathbf{x} - \\mathbf{b}$ which is called the *residual*; we want this to be 0, but due to round-off errors it rarely happens. Instead, we expect to see a tiny residual."
   ]
  },
  {
   "cell_type": "code",
   "execution_count": 87,
   "metadata": {},
   "outputs": [
    {
     "name": "stdout",
     "output_type": "stream",
     "text": [
      "resid =\n",
      "     0\n",
      "     0\n",
      "     0\n"
     ]
    }
   ],
   "source": [
    "resid = A_original*x - b_original"
   ]
  },
  {
   "cell_type": "markdown",
   "metadata": {},
   "source": [
    "### Matrix way\n",
    "\n",
    "In this section, we will carry out row operations in terms of matrix (left) multiplication. The matrices involved are called the *Gaussian transformations*."
   ]
  },
  {
   "cell_type": "code",
   "execution_count": 91,
   "metadata": {},
   "outputs": [
    {
     "name": "stdout",
     "output_type": "stream",
     "text": [
      "A =\n",
      "            2            2            1\n",
      "            0           10            3\n",
      "            0            0          3.5\n",
      "beta =\n",
      "     6\n",
      "     4\n",
      "    -7\n"
     ]
    }
   ],
   "source": [
    "A = A_original;\n",
    "I = eye(size(A));\n",
    "% first column\n",
    "G1 = I;\n",
    "G1(2,1) = -A(2,1)/A(1,1);\n",
    "G1(3,1) = -A(3,1)/A(1,1);\n",
    "A = G1*A;\n",
    "% second column\n",
    "G2 = I;\n",
    "G2(3,2) = -A(3,2)/A(2,2);\n",
    "A = G2*A\n",
    "beta = G2*G1*b"
   ]
  },
  {
   "cell_type": "markdown",
   "metadata": {},
   "source": [
    "Now the same backward substitution routine will solve this upper triangular system and yield the same result."
   ]
  },
  {
   "cell_type": "markdown",
   "metadata": {},
   "source": [
    "### Generalization: using for-loops\n",
    "\n",
    "Now we write a general-purpose code for any given inputs $A \\in \\mathbb{R}^n$ and $\\mathbf{b} \\in \\mathbb{R}^n$. "
   ]
  },
  {
   "cell_type": "code",
   "execution_count": 132,
   "metadata": {},
   "outputs": [
    {
     "name": "stdout",
     "output_type": "stream",
     "text": [
      "ans =\n",
      "   3.3198e-15\n"
     ]
    }
   ],
   "source": [
    "%% script m-file: Gaussian elimination without pivoting\n",
    "% input: A, b \n",
    "% output: x (satisfying A*x = b)\n",
    "n = 10;\n",
    "A = rand(n);\n",
    "b = rand(n,1);\n",
    "% n = size(A, 1);\n",
    "Ab = [A b];\n",
    "for j = 1:n-1\n",
    "    for i = j+1:n\n",
    "        alpha = -Ab(i,j)/Ab(j,j);\n",
    "        Ab(i,j:end) = Ab(i,j:end) + alpha*Ab(j,j:end);\n",
    "    end\n",
    "end\n",
    "U = Ab(:,1:end-1);\n",
    "beta = Ab(:,end);\n",
    "x = zeros(n,1);\n",
    "x(n) = beta(n)/U(n,n);\n",
    "for i = n-1:-1:1\n",
    "    x(i) = (beta(i) - U(i,i+1:n)*x(i+1:n))/U(i,i);\n",
    "end\n",
    "\n",
    "norm(A*x - b)"
   ]
  },
  {
   "cell_type": "markdown",
   "metadata": {},
   "source": [
    "We finally solve for $\\mathbf{x}$ using backward substitution whose general formula is given by\n",
    "$$\n",
    "x_n = \\beta_n/U_{n,n},\n",
    "$$\n",
    "and\n",
    "$$\n",
    "x_i = (\\beta_i - \\sum_{j=i+1}^{n} U_{i,j} x_j)/U_{i,i}\n",
    "$$\n",
    "for $i = n-1, n-2, \\ldots, 2, 1$."
   ]
  },
  {
   "cell_type": "code",
   "execution_count": null,
   "metadata": {},
   "outputs": [],
   "source": []
  },
  {
   "cell_type": "code",
   "execution_count": null,
   "metadata": {},
   "outputs": [],
   "source": []
  },
  {
   "cell_type": "code",
   "execution_count": 15,
   "metadata": {},
   "outputs": [
    {
     "name": "stdout",
     "output_type": "stream",
     "text": [
      "ans =\n",
      "   1.1102e-16\n"
     ]
    }
   ],
   "source": [
    "% lower triangular system\n",
    "L = [4 0 0 0; \n",
    "     3 -1 0 0;\n",
    "     -1 0 3 0;\n",
    "     1 -1 -1 2];\n",
    "b = [8; 5; 0; 1];\n",
    "x = L\\b;\n",
    "residual = L*x - b;\n",
    "norm(residual)"
   ]
  },
  {
   "cell_type": "code",
   "execution_count": 16,
   "metadata": {},
   "outputs": [
    {
     "name": "stdout",
     "output_type": "stream",
     "text": [
      "ans =\n",
      "   1.1102e-16\n"
     ]
    }
   ],
   "source": [
    "% forward elimination\n",
    "[m, n] = size(L);\n",
    "x = zeros(m, 1);\n",
    "x(1) = b(1)/L(1,1);\n",
    "for i = 2:n\n",
    "    x(i) = (b(i) - L(i,1:i-1)*x(1:i-1))/L(i,i);\n",
    "end\n",
    "norm(L*x - b)"
   ]
  },
  {
   "cell_type": "code",
   "execution_count": 52,
   "metadata": {},
   "outputs": [
    {
     "name": "stdout",
     "output_type": "stream",
     "text": [
      "-- Forward elimination routine\n",
      "size of matrix: n = 10\n",
      "residual (matlab backslash): 4.2999e-16\n",
      "residual (custom routine)  : 9.9301e-16\n"
     ]
    }
   ],
   "source": [
    "% test\n",
    "n = 10;\n",
    "L = tril(randi(n, n));\n",
    "b = rand(n, 1);\n",
    "x_matlab = L\\b;\n",
    "\n",
    "x = zeros(n, 1);\n",
    "x(1) = b(1)/L(1, 1);\n",
    "for i = 2:n\n",
    "    x(i) = (b(i) - L(i, 1:i-1)*x(1:i-1))/L(i,i);\n",
    "end\n",
    "\n",
    "res_matlab = norm(L*x_matlab - b);\n",
    "res = norm(L*x - b);\n",
    "fprintf('-- Forward elimination routine\\n')\n",
    "fprintf('size of matrix: n = %d\\n', n)\n",
    "fprintf('residual (matlab backslash): %8.4e\\n', res_matlab)\n",
    "fprintf('residual (custom routine)  : %8.4e\\n', res)\n",
    "\n"
   ]
  },
  {
   "cell_type": "code",
   "execution_count": null,
   "metadata": {},
   "outputs": [],
   "source": []
  }
 ],
 "metadata": {
  "kernelspec": {
   "display_name": "Matlab",
   "language": "matlab",
   "name": "matlab"
  },
  "language_info": {
   "codemirror_mode": "octave",
   "file_extension": ".m",
   "help_links": [
    {
     "text": "MetaKernel Magics",
     "url": "https://github.com/calysto/metakernel/blob/master/metakernel/magics/README.md"
    }
   ],
   "mimetype": "text/x-octave",
   "name": "matlab",
   "version": "0.15.0"
  }
 },
 "nbformat": 4,
 "nbformat_minor": 2
}
