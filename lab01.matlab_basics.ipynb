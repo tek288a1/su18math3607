{
 "cells": [
  {
   "cell_type": "markdown",
   "metadata": {},
   "source": [
    "# Lab 1. Basics of MatLab"
   ]
  },
  {
   "cell_type": "markdown",
   "metadata": {},
   "source": [
    "## Table of Contents\n",
    " * [Basic arithmetic operations](#arith)\n",
    " * [Exponentiation and scientific notation](#exp_sci)\n",
    " * [To see more digits](#more_digits)\n",
    " * [More on ``format``](#more_format)\n",
    " * [Basic mathematical functions](#basic_math_func)\n",
    "     * [Factorial](#factorial)\n",
    "     * [Roots](#roots)\n",
    "     * [Complex numbers](#cmplx)\n",
    "     * [Trigonometric functions](#trig)\n",
    "     * [Exponential and logarithmic functions](#exp_log)\n",
    " * [Predefined variables](#predefined)\n",
    " * [Defining your own variables](#def_var)\n",
    " * [Classes](#classes)\n",
    " * [Useful commands](#useful)"
   ]
  },
  {
   "cell_type": "code",
   "execution_count": 1,
   "metadata": {},
   "outputs": [],
   "source": [
    "format compact"
   ]
  },
  {
   "cell_type": "markdown",
   "metadata": {},
   "source": [
    "<a id='arith'></a>\n",
    "## Basic arithmetic operations"
   ]
  },
  {
   "cell_type": "code",
   "execution_count": 2,
   "metadata": {},
   "outputs": [
    {
     "name": "stdout",
     "output_type": "stream",
     "text": [
      "ans =\n",
      "     5\n"
     ]
    }
   ],
   "source": [
    "2 + 3"
   ]
  },
  {
   "cell_type": "code",
   "execution_count": 3,
   "metadata": {},
   "outputs": [
    {
     "name": "stdout",
     "output_type": "stream",
     "text": [
      "ans =\n",
      "     6\n"
     ]
    }
   ],
   "source": [
    "2 * 3"
   ]
  },
  {
   "cell_type": "code",
   "execution_count": 4,
   "metadata": {},
   "outputs": [
    {
     "name": "stdout",
     "output_type": "stream",
     "text": [
      "ans =\n",
      "    -1\n"
     ]
    }
   ],
   "source": [
    "2 - 3"
   ]
  },
  {
   "cell_type": "code",
   "execution_count": 5,
   "metadata": {},
   "outputs": [
    {
     "name": "stdout",
     "output_type": "stream",
     "text": [
      "ans =\n",
      "    0.6667\n"
     ]
    }
   ],
   "source": [
    "2 / 3"
   ]
  },
  {
   "cell_type": "markdown",
   "metadata": {},
   "source": [
    "<a id='exp_sci'></a>\n",
    "## Exponentiation and scientific notation"
   ]
  },
  {
   "cell_type": "markdown",
   "metadata": {},
   "source": [
    "Use the caret symbol (``^``) for exponentiation."
   ]
  },
  {
   "cell_type": "code",
   "execution_count": 6,
   "metadata": {},
   "outputs": [
    {
     "name": "stdout",
     "output_type": "stream",
     "text": [
      "ans =\n",
      "     8\n"
     ]
    }
   ],
   "source": [
    "2 ^ 3"
   ]
  },
  {
   "cell_type": "markdown",
   "metadata": {},
   "source": [
    "Euler number $e$ can be calculated by:"
   ]
  },
  {
   "cell_type": "code",
   "execution_count": 7,
   "metadata": {},
   "outputs": [
    {
     "name": "stdout",
     "output_type": "stream",
     "text": [
      "ans =\n",
      "    2.7183\n"
     ]
    }
   ],
   "source": [
    "exp(1)"
   ]
  },
  {
   "cell_type": "markdown",
   "metadata": {},
   "source": [
    "For scientific notation, e.g., $2.0 \\times 10^{-20}$, use ``e`` as follows:"
   ]
  },
  {
   "cell_type": "code",
   "execution_count": 8,
   "metadata": {},
   "outputs": [
    {
     "name": "stdout",
     "output_type": "stream",
     "text": [
      "ans =\n",
      "   2.0000e-20\n"
     ]
    }
   ],
   "source": [
    "2e-20"
   ]
  },
  {
   "cell_type": "markdown",
   "metadata": {},
   "source": [
    "You may obtain the same result by "
   ]
  },
  {
   "cell_type": "code",
   "execution_count": 9,
   "metadata": {},
   "outputs": [
    {
     "name": "stdout",
     "output_type": "stream",
     "text": [
      "ans =\n",
      "   2.0000e-20\n"
     ]
    }
   ],
   "source": [
    "2*10^-20"
   ]
  },
  {
   "cell_type": "markdown",
   "metadata": {},
   "source": [
    "but it is **not** recommended."
   ]
  },
  {
   "cell_type": "markdown",
   "metadata": {},
   "source": [
    "<a id='more_digits'></a>\n",
    "## To see more digits:"
   ]
  },
  {
   "cell_type": "markdown",
   "metadata": {},
   "source": [
    "We know that $e = 2.7182818284 \\ldots$ as an irrational number has infinitely many decimal digits, but the earlier code ``exp(1)`` gave only 4 decimal digits. Though MatLab cannot output all of them, it can give us 15 to 16 significant digits once we change its ``format``."
   ]
  },
  {
   "cell_type": "code",
   "execution_count": 10,
   "metadata": {
    "scrolled": true
   },
   "outputs": [],
   "source": [
    "format long"
   ]
  },
  {
   "cell_type": "code",
   "execution_count": 11,
   "metadata": {},
   "outputs": [
    {
     "name": "stdout",
     "output_type": "stream",
     "text": [
      "ans =\n",
      "   2.718281828459046\n"
     ]
    }
   ],
   "source": [
    "exp(1)"
   ]
  },
  {
   "cell_type": "markdown",
   "metadata": {},
   "source": [
    "A more detailed discussion on the discrete system of *floating point numbers* will be covered in a lecture. "
   ]
  },
  {
   "cell_type": "markdown",
   "metadata": {},
   "source": [
    "<a id='more_format'></a>\n",
    "## More on ``format``"
   ]
  },
  {
   "cell_type": "markdown",
   "metadata": {},
   "source": [
    "MatLab has short formats and long formats. \n",
    "\n",
    "**Short formats** provide 5 significant digits:\n",
    "* ``format short``: default\n",
    "* ``format short e``: scientific notation\n",
    "* ``format short g``: the \"better\" of the above two"
   ]
  },
  {
   "cell_type": "code",
   "execution_count": 12,
   "metadata": {},
   "outputs": [],
   "source": [
    "format short"
   ]
  },
  {
   "cell_type": "code",
   "execution_count": 13,
   "metadata": {},
   "outputs": [
    {
     "name": "stdout",
     "output_type": "stream",
     "text": [
      "ans =\n",
      "   1.0e+10 *\n",
      "    0.0000    0.0000    0.0000    0.0001    0.0100    1.0000\n"
     ]
    }
   ],
   "source": [
    "[1e0, 1e2, 1e4, 1e6, 1e8, 1e10]"
   ]
  },
  {
   "cell_type": "markdown",
   "metadata": {},
   "source": [
    "Change format to ``short e`` by typing"
   ]
  },
  {
   "cell_type": "code",
   "execution_count": 14,
   "metadata": {},
   "outputs": [],
   "source": [
    "format short e"
   ]
  },
  {
   "cell_type": "markdown",
   "metadata": {
    "slideshow": {
     "slide_type": "slide"
    }
   },
   "source": [
    "and execute the same code as before. Instead of typing the same input again, press the up-arrow key ($\\uparrow$) twice."
   ]
  },
  {
   "cell_type": "code",
   "execution_count": 15,
   "metadata": {},
   "outputs": [
    {
     "name": "stdout",
     "output_type": "stream",
     "text": [
      "ans =\n",
      "   1.0000e+00   1.0000e+02   1.0000e+04   1.0000e+06   1.0000e+08   1.0000e+10\n"
     ]
    }
   ],
   "source": [
    "[1e0, 1e2, 1e4, 1e6, 1e8, 1e10]"
   ]
  },
  {
   "cell_type": "markdown",
   "metadata": {},
   "source": [
    "Let's see how ``short g`` behaves with the same input:"
   ]
  },
  {
   "cell_type": "code",
   "execution_count": 16,
   "metadata": {},
   "outputs": [],
   "source": [
    "format short g"
   ]
  },
  {
   "cell_type": "code",
   "execution_count": 17,
   "metadata": {},
   "outputs": [
    {
     "name": "stdout",
     "output_type": "stream",
     "text": [
      "ans =\n",
      "            1          100        10000        1e+06        1e+08        1e+10\n"
     ]
    }
   ],
   "source": [
    "[1e0, 1e2, 1e4, 1e6, 1e8, 1e10]"
   ]
  },
  {
   "cell_type": "markdown",
   "metadata": {},
   "source": [
    "**Long formats** provide 15 to 16 significant digits and as in short formats, we have three varieties:\n",
    "* ``format long``\n",
    "* ``format long e``\n",
    "* ``format long g``\n",
    "\n",
    "The behaviours are analogous to the previous formats with only difference being the number of digits in outputs. \n",
    "\n",
    "For more information about different formatting options, check out:"
   ]
  },
  {
   "cell_type": "code",
   "execution_count": 18,
   "metadata": {
    "scrolled": true
   },
   "outputs": [
    {
     "name": "stdout",
     "output_type": "stream",
     "text": [
      " FORMAT Set output format.\n",
      "    FORMAT with no inputs sets the output format to the default appropriate\n",
      "    for the class of the variable. For float variables, the default is\n",
      "    FORMAT SHORT.\n",
      " \n",
      "    FORMAT does not affect how MATLAB computations are done. Computations\n",
      "    on float variables, namely single or double, are done in appropriate\n",
      "    floating point precision, no matter how those variables are displayed. \n",
      "    Computations on integer variables are done natively in integer. Integer\n",
      "    variables are always displayed to the appropriate number of digits for\n",
      "    the class, for example, 3 digits to display the INT8 range -128:127.\n",
      "    FORMAT SHORT and LONG do not affect the display of integer variables.\n",
      " \n",
      "    FORMAT may be used to switch between different output display formats\n",
      "    of all float variables as follows:\n",
      "      FORMAT SHORT     Scaled fixed point format with 5 digits.\n",
      "      FORMAT LONG      Scaled fixed point format with 15 digits for double\n",
      "                       and 7 digits for single.\n",
      "      FORMAT SHORTE    Floating point format with 5 digits.\n",
      "      FORMAT LONGE     Floating point format with 15 digits for double and\n",
      "                       7 digits for single.\n",
      "      FORMAT SHORTG    Best of fixed or floating point format with 5 \n",
      "                       digits.\n",
      "      FORMAT LONGG     Best of fixed or floating point format with 15 \n",
      "                       digits for double and 7 digits for single.\n",
      "      FORMAT SHORTENG  Engineering format that has at least 5 digits\n",
      "                       and a power that is a multiple of three\n",
      "      FORMAT LONGENG   Engineering format that has exactly 16 significant\n",
      "                       digits and a power that is a multiple of three.\n",
      " \n",
      "    FORMAT may be used to switch between different output display formats\n",
      "    of all numeric variables as follows:\n",
      "      FORMAT HEX     Hexadecimal format.\n",
      "      FORMAT +       The symbols +, - and blank are printed \n",
      "                     for positive, negative and zero elements.\n",
      "                     Imaginary parts are ignored.\n",
      "      FORMAT BANK    Fixed format for dollars and cents.\n",
      "      FORMAT RAT     Approximation by ratio of small integers.  Numbers\n",
      "                     with a large numerator or large denominator are\n",
      "                     replaced by *.\n",
      " \n",
      "    FORMAT may be used to affect the spacing in the display of all\n",
      "    variables as follows:\n",
      "      FORMAT COMPACT Suppresses extra line-feeds.\n",
      "      FORMAT LOOSE   Puts the extra line-feeds back in.\n",
      " \n",
      "    Example:\n",
      "       format short, pi, single(pi)\n",
      "    displays both double and single pi with 5 digits as 3.1416 while\n",
      "       format long, pi, single(pi)\n",
      "    displays pi as 3.141592653589793 and single(pi) as 3.1415927.\n",
      " \n",
      "       format, intmax('uint64'), realmax\n",
      "    shows these values as 18446744073709551615 and 1.7977e+308 while\n",
      "       format hex, intmax('uint64'), realmax\n",
      "    shows them as ffffffffffffffff and 7fefffffffffffff respectively.\n",
      "    The HEX display corresponds to the internal representation of the value\n",
      "    and is not the same as the hexadecimal notation in the C programming\n",
      "    language.\n",
      " \n",
      "    See also DISP, DISPLAY, ISNUMERIC, ISFLOAT, ISINTEGER.\n",
      "\n",
      "    Reference page in Doc Center\n",
      "       doc format\n",
      "\n",
      "\n"
     ]
    }
   ],
   "source": [
    "help format"
   ]
  },
  {
   "cell_type": "markdown",
   "metadata": {},
   "source": [
    "<a id='basic_math_func'></a>\n",
    "## Basic mathematical functions"
   ]
  },
  {
   "cell_type": "markdown",
   "metadata": {},
   "source": [
    "Let's get back to the default format"
   ]
  },
  {
   "cell_type": "code",
   "execution_count": 19,
   "metadata": {},
   "outputs": [],
   "source": [
    "format short"
   ]
  },
  {
   "cell_type": "markdown",
   "metadata": {},
   "source": [
    "and examine some commonly used mathematical functions. \n",
    "\n",
    "MatLab has a very extensive library of mathematical functions. Moreover, its syntax resembles that of mathematics. "
   ]
  },
  {
   "cell_type": "markdown",
   "metadata": {},
   "source": [
    "<a id='factorial'></a>\n",
    "### Factorials"
   ]
  },
  {
   "cell_type": "markdown",
   "metadata": {},
   "source": [
    "In order to calculate a factorial, e.g., $5!$, use ``factorial``:"
   ]
  },
  {
   "cell_type": "code",
   "execution_count": 20,
   "metadata": {},
   "outputs": [
    {
     "name": "stdout",
     "output_type": "stream",
     "text": [
      "ans =\n",
      "   120\n"
     ]
    }
   ],
   "source": [
    "factorial(5)"
   ]
  },
  {
   "cell_type": "markdown",
   "metadata": {},
   "source": [
    "<a id='roots'></a>\n",
    "### Roots"
   ]
  },
  {
   "cell_type": "markdown",
   "metadata": {},
   "source": [
    "To calculate square roots, use ``sqrt``, e.g.,"
   ]
  },
  {
   "cell_type": "code",
   "execution_count": 21,
   "metadata": {},
   "outputs": [
    {
     "name": "stdout",
     "output_type": "stream",
     "text": [
      "ans =\n",
      "    3.4641\n"
     ]
    }
   ],
   "source": [
    "sqrt(12)"
   ]
  },
  {
   "cell_type": "markdown",
   "metadata": {},
   "source": [
    "To compute a general $n$th root, e.g., $\\sqrt[5]{40}$, use ``nthroot`` command:"
   ]
  },
  {
   "cell_type": "code",
   "execution_count": 22,
   "metadata": {},
   "outputs": [
    {
     "name": "stdout",
     "output_type": "stream",
     "text": [
      "ans =\n",
      "    2.0913\n"
     ]
    }
   ],
   "source": [
    "nthroot(40, 5)"
   ]
  },
  {
   "cell_type": "markdown",
   "metadata": {},
   "source": [
    "Note that ``nthroot`` takes two inputs the second of which determines $n$, the degree of the radical."
   ]
  },
  {
   "cell_type": "code",
   "execution_count": 23,
   "metadata": {},
   "outputs": [
    {
     "name": "stdout",
     "output_type": "stream",
     "text": [
      "ans =\n",
      "     2\n"
     ]
    }
   ],
   "source": [
    "nthroot(8, 3)"
   ]
  },
  {
   "cell_type": "markdown",
   "metadata": {},
   "source": [
    "Equivalently, we can use a fractional power to produce the same result."
   ]
  },
  {
   "cell_type": "code",
   "execution_count": 24,
   "metadata": {},
   "outputs": [
    {
     "name": "stdout",
     "output_type": "stream",
     "text": [
      "ans =\n",
      "     2\n"
     ]
    }
   ],
   "source": [
    "8^(1/3)"
   ]
  },
  {
   "cell_type": "markdown",
   "metadata": {},
   "source": [
    "**Caveat.** When the first input is a negative number, we need to be more careful. Compare the following two examples. We will show you how to fix the second one later."
   ]
  },
  {
   "cell_type": "code",
   "execution_count": 25,
   "metadata": {},
   "outputs": [
    {
     "name": "stdout",
     "output_type": "stream",
     "text": [
      "ans =\n",
      "    -2\n"
     ]
    }
   ],
   "source": [
    "nthroot(-8, 3)"
   ]
  },
  {
   "cell_type": "code",
   "execution_count": 26,
   "metadata": {},
   "outputs": [
    {
     "name": "stdout",
     "output_type": "stream",
     "text": [
      "ans =\n",
      "   1.0000 + 1.7321i\n"
     ]
    }
   ],
   "source": [
    "(-8)^(1/3)"
   ]
  },
  {
   "cell_type": "markdown",
   "metadata": {},
   "source": [
    "<a id='cmplx'></a>\n",
    "### Complex numbers"
   ]
  },
  {
   "cell_type": "markdown",
   "metadata": {},
   "source": [
    "The variables ``i`` and ``j`` denote the imaginary number $i = \\sqrt{-1}$."
   ]
  },
  {
   "cell_type": "code",
   "execution_count": 27,
   "metadata": {},
   "outputs": [
    {
     "name": "stdout",
     "output_type": "stream",
     "text": [
      "ans =\n",
      "   0.0000 + 1.0000i\n"
     ]
    }
   ],
   "source": [
    "i"
   ]
  },
  {
   "cell_type": "code",
   "execution_count": 28,
   "metadata": {},
   "outputs": [
    {
     "name": "stdout",
     "output_type": "stream",
     "text": [
      "ans =\n",
      "   0.0000 + 1.0000i\n"
     ]
    }
   ],
   "source": [
    "j"
   ]
  },
  {
   "cell_type": "markdown",
   "metadata": {},
   "source": [
    "But the letters ``i`` and ``j`` are commonly used indices. In order to avoid conflicts, it is a recommended practice that we use ``1i`` or ``1j`` instead."
   ]
  },
  {
   "cell_type": "code",
   "execution_count": 29,
   "metadata": {},
   "outputs": [
    {
     "name": "stdout",
     "output_type": "stream",
     "text": [
      "ans =\n",
      "   3.0000 + 1.0000i\n"
     ]
    }
   ],
   "source": [
    "3 + 1i"
   ]
  },
  {
   "cell_type": "markdown",
   "metadata": {},
   "source": [
    "Generally, ``(number)i`` or ``(number)j`` is used for a scalar multiple of $i$:"
   ]
  },
  {
   "cell_type": "code",
   "execution_count": 30,
   "metadata": {},
   "outputs": [
    {
     "name": "stdout",
     "output_type": "stream",
     "text": [
      "ans =\n",
      "   3.0000 + 4.0000i\n"
     ]
    }
   ],
   "source": [
    "3 + 4j"
   ]
  },
  {
   "cell_type": "markdown",
   "metadata": {},
   "source": [
    "In order to write a complex number $z = x + iy$ in polar form $z = r e^{i\\theta}$, we can use ``abs`` and ``angle`` functions to obtain $r$ and $\\theta$ respectively. \n",
    "\n",
    "**Absolute value (or modulus):**"
   ]
  },
  {
   "cell_type": "code",
   "execution_count": 31,
   "metadata": {},
   "outputs": [
    {
     "name": "stdout",
     "output_type": "stream",
     "text": [
      "ans =\n",
      "     5\n"
     ]
    }
   ],
   "source": [
    "abs(3 + 4i)"
   ]
  },
  {
   "cell_type": "markdown",
   "metadata": {},
   "source": [
    "**Angle (or phase):**"
   ]
  },
  {
   "cell_type": "code",
   "execution_count": 32,
   "metadata": {},
   "outputs": [
    {
     "name": "stdout",
     "output_type": "stream",
     "text": [
      "ans =\n",
      "    45\n"
     ]
    }
   ],
   "source": [
    "angle(1 + 1i)*180/pi"
   ]
  },
  {
   "cell_type": "markdown",
   "metadata": {},
   "source": [
    "Getting back to the previous question, let's calculate the cube root of $-8$ properly:"
   ]
  },
  {
   "cell_type": "code",
   "execution_count": 33,
   "metadata": {},
   "outputs": [
    {
     "name": "stdout",
     "output_type": "stream",
     "text": [
      "ans =\n",
      "    -2\n"
     ]
    }
   ],
   "source": [
    "sign(-8)*abs(-8)^(1/3)"
   ]
  },
  {
   "cell_type": "markdown",
   "metadata": {},
   "source": [
    "<a id='trig'></a>\n",
    "### Trigonometric functions"
   ]
  },
  {
   "cell_type": "markdown",
   "metadata": {},
   "source": [
    "By default, MatLab uses *radians*; it provides variants of trig functions which takes inputs in degrees; they have a ``d``- suffix. For example, $\\sin (3)$ is calculated by"
   ]
  },
  {
   "cell_type": "code",
   "execution_count": 34,
   "metadata": {},
   "outputs": [
    {
     "name": "stdout",
     "output_type": "stream",
     "text": [
      "ans =\n",
      "    0.1411\n"
     ]
    }
   ],
   "source": [
    "sin(3)"
   ]
  },
  {
   "cell_type": "markdown",
   "metadata": {},
   "source": [
    "whereas $\\sin(3^{\\circ})$ is calculated by"
   ]
  },
  {
   "cell_type": "code",
   "execution_count": 35,
   "metadata": {},
   "outputs": [
    {
     "name": "stdout",
     "output_type": "stream",
     "text": [
      "ans =\n",
      "    0.0523\n"
     ]
    }
   ],
   "source": [
    "sind(3)"
   ]
  },
  {
   "cell_type": "markdown",
   "metadata": {},
   "source": [
    "For inverse sine (or arc-sine), use"
   ]
  },
  {
   "cell_type": "code",
   "execution_count": 36,
   "metadata": {},
   "outputs": [
    {
     "name": "stdout",
     "output_type": "stream",
     "text": [
      "ans =\n",
      "    0.5236\n"
     ]
    }
   ],
   "source": [
    "asin(1/2)"
   ]
  },
  {
   "cell_type": "markdown",
   "metadata": {},
   "source": [
    "Once again, the angular output is in *radians*. If one desires the answer in *degrees*, use ``asind``:"
   ]
  },
  {
   "cell_type": "code",
   "execution_count": 37,
   "metadata": {},
   "outputs": [
    {
     "name": "stdout",
     "output_type": "stream",
     "text": [
      "ans =\n",
      "   30.0000\n"
     ]
    }
   ],
   "source": [
    "asind(1/2)"
   ]
  },
  {
   "cell_type": "markdown",
   "metadata": {},
   "source": [
    "#### Question: find the angle of a vector.\n",
    "\n",
    "Let $\\mathbf{v} = \\langle 3, 4 \\rangle$. This vector is given in its Cartesian coordinates. If we wanted to extract its polar information, i.e., length $r$ and angle $\\theta$, we use the following conversion formulas from Math 2153:\n",
    "\n",
    " * $r = \\sqrt{3^2 + 4^2}$\n",
    " * $\\tan(\\theta) = 4/3$\n",
    " \n",
    "The length/radius $r$ can be easily calculated:"
   ]
  },
  {
   "cell_type": "code",
   "execution_count": 38,
   "metadata": {},
   "outputs": [
    {
     "name": "stdout",
     "output_type": "stream",
     "text": [
      "ans =\n",
      "     5\n"
     ]
    }
   ],
   "source": [
    "sqrt(3^2 + 4^2)"
   ]
  },
  {
   "cell_type": "markdown",
   "metadata": {
    "slideshow": {
     "slide_type": "slide"
    }
   },
   "source": [
    "In order to calculate $\\theta$, we use the arc-tangent:"
   ]
  },
  {
   "cell_type": "code",
   "execution_count": 39,
   "metadata": {},
   "outputs": [
    {
     "name": "stdout",
     "output_type": "stream",
     "text": [
      "ans =\n",
      "    0.9273\n"
     ]
    }
   ],
   "source": [
    "atan(4/3)"
   ]
  },
  {
   "cell_type": "code",
   "execution_count": 40,
   "metadata": {},
   "outputs": [
    {
     "name": "stdout",
     "output_type": "stream",
     "text": [
      "ans =\n",
      "   53.1301\n"
     ]
    }
   ],
   "source": [
    "atand(4/3)"
   ]
  },
  {
   "cell_type": "markdown",
   "metadata": {},
   "source": [
    "Now let $\\mathbf{w} = \\langle -3, -4 \\rangle$? Let $s$ and $\\phi$ denote its length and angle respectively. It is understood that $\\mathbf{w}$ has the same length as $\\mathbf{v}$, so $r = s$:"
   ]
  },
  {
   "cell_type": "code",
   "execution_count": 41,
   "metadata": {},
   "outputs": [
    {
     "name": "stdout",
     "output_type": "stream",
     "text": [
      "ans =\n",
      "     5\n"
     ]
    }
   ],
   "source": [
    "sqrt((-3)^2 + (-4)^2)"
   ]
  },
  {
   "cell_type": "markdown",
   "metadata": {},
   "source": [
    "We know that $\\phi$ must differ from $\\theta$ by $180^{\\circ}$ or $\\pi$ radians since $\\mathbf{w}$ and $\\mathbf{v}$ are facing the opposite directions. However, the following calculation yields an incorrect $\\phi$ value:"
   ]
  },
  {
   "cell_type": "code",
   "execution_count": 42,
   "metadata": {},
   "outputs": [
    {
     "name": "stdout",
     "output_type": "stream",
     "text": [
      "ans =\n",
      "   53.1301\n"
     ]
    }
   ],
   "source": [
    "atand(-4/-3)"
   ]
  },
  {
   "cell_type": "markdown",
   "metadata": {},
   "source": [
    "This is due to the fact that the range of $\\tan^{-1}$ is $(-\\pi/2, \\pi/2)$ (first and fourth quadrants) while the vector lies in the third quadrant. To overcome this, MatLab provides the following handy command:"
   ]
  },
  {
   "cell_type": "code",
   "execution_count": 43,
   "metadata": {},
   "outputs": [
    {
     "name": "stdout",
     "output_type": "stream",
     "text": [
      "ans =\n",
      " -143.1301\n"
     ]
    }
   ],
   "source": [
    "atan2d(-3, -4)"
   ]
  },
  {
   "cell_type": "markdown",
   "metadata": {},
   "source": [
    "We can confirm that these two angles differ by $180^{\\circ}$:"
   ]
  },
  {
   "cell_type": "code",
   "execution_count": 44,
   "metadata": {},
   "outputs": [
    {
     "name": "stdout",
     "output_type": "stream",
     "text": [
      "ans =\n",
      "   180\n"
     ]
    }
   ],
   "source": [
    "atan2d(3, 4) - atan2d(-3, -4)"
   ]
  },
  {
   "cell_type": "markdown",
   "metadata": {},
   "source": [
    "<a id='exp_log'></a>\n",
    "### Exponential and logarithmic functions"
   ]
  },
  {
   "cell_type": "markdown",
   "metadata": {},
   "source": [
    "We have already seen the exponential functions."
   ]
  },
  {
   "cell_type": "code",
   "execution_count": 45,
   "metadata": {},
   "outputs": [
    {
     "name": "stdout",
     "output_type": "stream",
     "text": [
      "ans =\n",
      "    3.6693\n"
     ]
    }
   ],
   "source": [
    "exp(1.3)"
   ]
  },
  {
   "cell_type": "markdown",
   "metadata": {},
   "source": [
    "For logarithmic functions, we have\n",
    "\n",
    " * ``log``: natural logarithmic function, that is, with base $e$\n",
    " * ``log10``: common logarithmic function, that is, with base $10$\n",
    " \n",
    "For logarithms with base other than the two common ones, use the change of basis formula:\n",
    "$$\\log_b(a) = \\frac{\\ln(a)}{\\ln(b)}, \\quad a \\in \\mathbb{R}^{+} \\text{ and } b \\in \\mathbb{R}^{+}\\setminus\\{1\\}$$"
   ]
  },
  {
   "cell_type": "code",
   "execution_count": 46,
   "metadata": {},
   "outputs": [
    {
     "name": "stdout",
     "output_type": "stream",
     "text": [
      "ans =\n",
      "    2.3026\n"
     ]
    }
   ],
   "source": [
    "log(10)"
   ]
  },
  {
   "cell_type": "code",
   "execution_count": 47,
   "metadata": {},
   "outputs": [
    {
     "name": "stdout",
     "output_type": "stream",
     "text": [
      "ans =\n",
      "     1\n"
     ]
    }
   ],
   "source": [
    "log10(10)"
   ]
  },
  {
   "cell_type": "code",
   "execution_count": 48,
   "metadata": {},
   "outputs": [
    {
     "name": "stdout",
     "output_type": "stream",
     "text": [
      "ans =\n",
      "    0.8982\n"
     ]
    }
   ],
   "source": [
    "log(5)/log(6)"
   ]
  },
  {
   "cell_type": "markdown",
   "metadata": {},
   "source": [
    "### For more elementary functions"
   ]
  },
  {
   "cell_type": "markdown",
   "metadata": {},
   "source": [
    "Use ``help`` command:"
   ]
  },
  {
   "cell_type": "code",
   "execution_count": 49,
   "metadata": {
    "scrolled": true
   },
   "outputs": [
    {
     "name": "stdout",
     "output_type": "stream",
     "text": [
      "  Elementary math functions.\n",
      " \n",
      "  Trigonometric.\n",
      "    sin         - Sine.\n",
      "    sind        - Sine of argument in degrees.\n",
      "    sinh        - Hyperbolic sine.\n",
      "    asin        - Inverse sine.\n",
      "    asind       - Inverse sine, result in degrees.\n",
      "    asinh       - Inverse hyperbolic sine.\n",
      "    cos         - Cosine.\n",
      "    cosd        - Cosine of argument in degrees.\n",
      "    cosh        - Hyperbolic cosine.\n",
      "    acos        - Inverse cosine.\n",
      "    acosd       - Inverse cosine, result in degrees.\n",
      "    acosh       - Inverse hyperbolic cosine.\n",
      "    tan         - Tangent.\n",
      "    tand        - Tangent of argument in degrees.\n",
      "    tanh        - Hyperbolic tangent.\n",
      "    atan        - Inverse tangent.\n",
      "    atand       - Inverse tangent, result in degrees.\n",
      "    atan2       - Four quadrant inverse tangent.\n",
      "    atan2d      - Four quadrant inverse tangent, result in degrees.\n",
      "    atanh       - Inverse hyperbolic tangent.\n",
      "    sec         - Secant.\n",
      "    secd        - Secant of argument in degrees.\n",
      "    sech        - Hyperbolic secant.\n",
      "    asec        - Inverse secant.\n",
      "    asecd       - Inverse secant, result in degrees.\n",
      "    asech       - Inverse hyperbolic secant.\n",
      "    csc         - Cosecant.\n",
      "    cscd        - Cosecant of argument in degrees.\n",
      "    csch        - Hyperbolic cosecant.\n",
      "    acsc        - Inverse cosecant.\n",
      "    acscd       - Inverse cosecant, result in degrees.\n",
      "    acsch       - Inverse hyperbolic cosecant.\n",
      "    cot         - Cotangent.\n",
      "    cotd        - Cotangent of argument in degrees.\n",
      "    coth        - Hyperbolic cotangent.\n",
      "    acot        - Inverse cotangent.\n",
      "    acotd       - Inverse cotangent, result in degrees.\n",
      "    acoth       - Inverse hyperbolic cotangent.\n",
      "    hypot       - Square root of sum of squares.\n",
      "    deg2rad     - Convert angles from degrees to radians.\n",
      "    rad2deg     - Convert angles from radians to degrees.\n",
      " \n",
      "  Exponential.\n",
      "    exp         - Exponential.\n",
      "    expm1       - Compute exp(x)-1 accurately.\n",
      "    log         - Natural logarithm.\n",
      "    log1p       - Compute log(1+x) accurately.\n",
      "    log10       - Common (base 10) logarithm.\n",
      "    log2        - Base 2 logarithm and dissect floating point number.\n",
      "    pow2        - Base 2 power and scale floating point number.\n",
      "    realpow     - Power that will error out on complex result.\n",
      "    reallog     - Natural logarithm of real number.\n",
      "    realsqrt    - Square root of number greater than or equal to zero.\n",
      "    sqrt        - Square root.\n",
      "    nthroot     - Real n-th root of real numbers.\n",
      "    nextpow2    - Next higher power of 2.\n",
      " \n",
      "  Complex.\n",
      "    abs         - Absolute value.\n",
      "    angle       - Phase angle.\n",
      "    complex     - Construct complex data from real and imaginary parts.\n",
      "    conj        - Complex conjugate.\n",
      "    imag        - Complex imaginary part.\n",
      "    real        - Complex real part.\n",
      "    unwrap      - Unwrap phase angle.\n",
      "    isreal      - True for real array.\n",
      "    cplxpair    - Sort numbers into complex conjugate pairs.\n",
      " \n",
      "  Rounding and remainder.\n",
      "    fix         - Round towards zero.\n",
      "    floor       - Round towards minus infinity.\n",
      "    ceil        - Round towards plus infinity.\n",
      "    round       - Round towards nearest integer.\n",
      "    mod         - Modulus (signed remainder after division).\n",
      "    rem         - Remainder after division.\n",
      "    sign        - Signum.\n",
      "\n"
     ]
    }
   ],
   "source": [
    "help elfun % elfun: elementary functions"
   ]
  },
  {
   "cell_type": "markdown",
   "metadata": {},
   "source": [
    "<a id='predefined'></a>\n",
    "## Predefined variables"
   ]
  },
  {
   "cell_type": "markdown",
   "metadata": {},
   "source": [
    "### ``realmax``, ``realmin``, and ``eps``"
   ]
  },
  {
   "cell_type": "markdown",
   "metadata": {},
   "source": [
    "The largest number that MatLab can represent is stored as"
   ]
  },
  {
   "cell_type": "code",
   "execution_count": 50,
   "metadata": {},
   "outputs": [
    {
     "name": "stdout",
     "output_type": "stream",
     "text": [
      "ans =\n",
      "  1.7977e+308\n"
     ]
    }
   ],
   "source": [
    "realmax"
   ]
  },
  {
   "cell_type": "raw",
   "metadata": {},
   "source": []
  },
  {
   "cell_type": "markdown",
   "metadata": {},
   "source": [
    "Similarly, ``realmin`` is a predefined variable, but it is not the smallest number representable in MatLab."
   ]
  },
  {
   "cell_type": "code",
   "execution_count": 51,
   "metadata": {},
   "outputs": [
    {
     "name": "stdout",
     "output_type": "stream",
     "text": [
      "ans =\n",
      "  2.2251e-308\n"
     ]
    }
   ],
   "source": [
    "realmin"
   ]
  },
  {
   "cell_type": "code",
   "execution_count": 52,
   "metadata": {},
   "outputs": [
    {
     "name": "stdout",
     "output_type": "stream",
     "text": [
      "ans =\n",
      "  4.9407e-324\n"
     ]
    }
   ],
   "source": [
    "realmin/2^52"
   ]
  },
  {
   "cell_type": "markdown",
   "metadata": {},
   "source": [
    "Since computers can only represent a discrete set of numbers, there must be gaps between two representable numbers. One notable gap is the one between 1 and the next stored number; it is called the **machine epsilon** and is stored as ``eps``. Note how tiny it is:"
   ]
  },
  {
   "cell_type": "code",
   "execution_count": 53,
   "metadata": {},
   "outputs": [
    {
     "name": "stdout",
     "output_type": "stream",
     "text": [
      "ans =\n",
      "   2.2204e-16\n"
     ]
    }
   ],
   "source": [
    "eps"
   ]
  },
  {
   "cell_type": "markdown",
   "metadata": {},
   "source": [
    "A quick demonstration about the idea of the machine epsilon and the rounding behavior:"
   ]
  },
  {
   "cell_type": "code",
   "execution_count": 54,
   "metadata": {},
   "outputs": [
    {
     "name": "stdout",
     "output_type": "stream",
     "text": [
      "ans =\n",
      "     1\n"
     ]
    }
   ],
   "source": [
    "1 "
   ]
  },
  {
   "cell_type": "code",
   "execution_count": 55,
   "metadata": {},
   "outputs": [
    {
     "name": "stdout",
     "output_type": "stream",
     "text": [
      "ans =\n",
      "    1.0000\n"
     ]
    }
   ],
   "source": [
    "1 + eps "
   ]
  },
  {
   "cell_type": "markdown",
   "metadata": {},
   "source": [
    "They seem to be the same; let's examine their difference."
   ]
  },
  {
   "cell_type": "code",
   "execution_count": 56,
   "metadata": {},
   "outputs": [
    {
     "name": "stdout",
     "output_type": "stream",
     "text": [
      "ans =\n",
      "   2.2204e-16\n"
     ]
    }
   ],
   "source": [
    "(1 + eps) - 1"
   ]
  },
  {
   "cell_type": "markdown",
   "metadata": {},
   "source": [
    "So this gap is representable. How about the gap between $1$ and $1 + 0.7 \\fbox{$\\epsilon$}$?"
   ]
  },
  {
   "cell_type": "code",
   "execution_count": 57,
   "metadata": {},
   "outputs": [
    {
     "name": "stdout",
     "output_type": "stream",
     "text": [
      "ans =\n",
      "   2.2204e-16\n"
     ]
    }
   ],
   "source": [
    "(1 + 0.7*eps) - 1"
   ]
  },
  {
   "cell_type": "markdown",
   "metadata": {},
   "source": [
    "It is still the machine epsilon! It means that the computer rounds recognizes $1 + 0.7\\fbox{$\\epsilon$}$ up to $1 + \\fbox{$\\epsilon$}$. To confirm this, consider:"
   ]
  },
  {
   "cell_type": "code",
   "execution_count": 58,
   "metadata": {},
   "outputs": [
    {
     "name": "stdout",
     "output_type": "stream",
     "text": [
      "ans =\n",
      "     0\n"
     ]
    }
   ],
   "source": [
    "(1 + 0.49*eps) - 1"
   ]
  },
  {
   "cell_type": "markdown",
   "metadata": {},
   "source": [
    "### ``Inf`` and ``NaN``"
   ]
  },
  {
   "cell_type": "markdown",
   "metadata": {},
   "source": [
    "Numbers beyond $\\pm$ ``realmax`` are represented by $\\pm$ ``Inf``; these are called *overflows*. Numbers between $\\pm$ ``realmin/2^52`` are rounded to $\\pm$ ``0``; these are called *underflows*. "
   ]
  },
  {
   "cell_type": "code",
   "execution_count": 59,
   "metadata": {},
   "outputs": [
    {
     "name": "stdout",
     "output_type": "stream",
     "text": [
      "ans =\n",
      "  -Inf\n"
     ]
    }
   ],
   "source": [
    "log(0)"
   ]
  },
  {
   "cell_type": "code",
   "execution_count": 60,
   "metadata": {},
   "outputs": [
    {
     "name": "stdout",
     "output_type": "stream",
     "text": [
      "ans =\n",
      "   Inf\n"
     ]
    }
   ],
   "source": [
    "realmax*(1+eps)"
   ]
  },
  {
   "cell_type": "code",
   "execution_count": 61,
   "metadata": {},
   "outputs": [
    {
     "name": "stdout",
     "output_type": "stream",
     "text": [
      "ans =\n",
      "     0\n"
     ]
    }
   ],
   "source": [
    "realmin/2^53"
   ]
  },
  {
   "cell_type": "code",
   "execution_count": 62,
   "metadata": {},
   "outputs": [
    {
     "name": "stdout",
     "output_type": "stream",
     "text": [
      "ans =\n",
      "   Inf\n"
     ]
    }
   ],
   "source": [
    "1/0"
   ]
  },
  {
   "cell_type": "markdown",
   "metadata": {},
   "source": [
    "And we have a variable for \"not a number\":"
   ]
  },
  {
   "cell_type": "code",
   "execution_count": 63,
   "metadata": {},
   "outputs": [
    {
     "name": "stdout",
     "output_type": "stream",
     "text": [
      "ans =\n",
      "   NaN\n"
     ]
    }
   ],
   "source": [
    "0/0"
   ]
  },
  {
   "cell_type": "markdown",
   "metadata": {},
   "source": [
    "<a id='def_var'></a>\n",
    "## Defining your own variables"
   ]
  },
  {
   "cell_type": "markdown",
   "metadata": {},
   "source": [
    "You can define your own variable using the following syntax:"
   ]
  },
  {
   "cell_type": "code",
   "execution_count": 64,
   "metadata": {},
   "outputs": [
    {
     "name": "stdout",
     "output_type": "stream",
     "text": [
      "my_first_variable =\n",
      "    20\n"
     ]
    }
   ],
   "source": [
    "my_first_variable = 20"
   ]
  },
  {
   "cell_type": "code",
   "execution_count": 65,
   "metadata": {},
   "outputs": [
    {
     "name": "stdout",
     "output_type": "stream",
     "text": [
      "ComplexVariable1 =\n",
      "   0.7071 + 0.7071i\n"
     ]
    }
   ],
   "source": [
    "ComplexVariable1 = sqrt(1i)"
   ]
  },
  {
   "cell_type": "markdown",
   "metadata": {},
   "source": [
    "Use the defined variables:"
   ]
  },
  {
   "cell_type": "code",
   "execution_count": 66,
   "metadata": {},
   "outputs": [
    {
     "name": "stdout",
     "output_type": "stream",
     "text": [
      "ans =\n",
      "    4.4721\n"
     ]
    }
   ],
   "source": [
    "sqrt(my_first_variable)"
   ]
  },
  {
   "cell_type": "code",
   "execution_count": 67,
   "metadata": {},
   "outputs": [
    {
     "name": "stdout",
     "output_type": "stream",
     "text": [
      "ans =\n",
      "   1.5419 + 1.3175i\n"
     ]
    }
   ],
   "source": [
    "exp(ComplexVariable1)"
   ]
  },
  {
   "cell_type": "markdown",
   "metadata": {},
   "source": [
    "A string of characters can be stored as well."
   ]
  },
  {
   "cell_type": "code",
   "execution_count": 68,
   "metadata": {},
   "outputs": [
    {
     "name": "stdout",
     "output_type": "stream",
     "text": [
      "str =\n",
      "hello, class\n"
     ]
    }
   ],
   "source": [
    "str = 'hello, class'"
   ]
  },
  {
   "cell_type": "markdown",
   "metadata": {},
   "source": [
    "<a id='classes'></a>\n",
    "## Classes"
   ]
  },
  {
   "cell_type": "markdown",
   "metadata": {
    "slideshow": {
     "slide_type": "slide"
    }
   },
   "source": [
    "In MatLab, objects are classified as one of the four classes.\n",
    "\n",
    " * ``double``: (double-precision) numbers\n",
    " * ``char``: characters\n",
    " * ``function_handle``: functions\n",
    " * ``logical``: true or false"
   ]
  },
  {
   "cell_type": "code",
   "execution_count": 69,
   "metadata": {},
   "outputs": [
    {
     "name": "stdout",
     "output_type": "stream",
     "text": [
      "ans =\n",
      "double\n"
     ]
    }
   ],
   "source": [
    "class(my_first_variable)"
   ]
  },
  {
   "cell_type": "code",
   "execution_count": 70,
   "metadata": {},
   "outputs": [
    {
     "name": "stdout",
     "output_type": "stream",
     "text": [
      "ans =\n",
      "double\n"
     ]
    }
   ],
   "source": [
    "class(ComplexVariable1)"
   ]
  },
  {
   "cell_type": "code",
   "execution_count": 71,
   "metadata": {},
   "outputs": [
    {
     "name": "stdout",
     "output_type": "stream",
     "text": [
      "ans =\n",
      "char\n"
     ]
    }
   ],
   "source": [
    "class(str)"
   ]
  },
  {
   "cell_type": "code",
   "execution_count": 72,
   "metadata": {},
   "outputs": [
    {
     "name": "stdout",
     "output_type": "stream",
     "text": [
      "ans =\n",
      "function_handle\n"
     ]
    }
   ],
   "source": [
    "class(@sin)"
   ]
  },
  {
   "cell_type": "markdown",
   "metadata": {},
   "source": [
    "Note the use of @ symbol in front of ``sin``."
   ]
  },
  {
   "cell_type": "code",
   "execution_count": 73,
   "metadata": {},
   "outputs": [
    {
     "name": "stdout",
     "output_type": "stream",
     "text": [
      "ans =\n",
      "logical\n"
     ]
    }
   ],
   "source": [
    "class(true)"
   ]
  },
  {
   "cell_type": "code",
   "execution_count": 74,
   "metadata": {},
   "outputs": [
    {
     "name": "stdout",
     "output_type": "stream",
     "text": [
      "ans =\n",
      "logical\n"
     ]
    }
   ],
   "source": [
    "class(false)"
   ]
  },
  {
   "cell_type": "code",
   "execution_count": 75,
   "metadata": {},
   "outputs": [
    {
     "name": "stdout",
     "output_type": "stream",
     "text": [
      "ans =\n",
      "  logical\n",
      "   1\n"
     ]
    }
   ],
   "source": [
    "true"
   ]
  },
  {
   "cell_type": "markdown",
   "metadata": {},
   "source": [
    "<a id='useful'></a>\n",
    "## More useful commands"
   ]
  },
  {
   "cell_type": "markdown",
   "metadata": {},
   "source": [
    "### ``clear``"
   ]
  },
  {
   "cell_type": "markdown",
   "metadata": {},
   "source": [
    "In order to clear the variable ``str`` from memory:"
   ]
  },
  {
   "cell_type": "code",
   "execution_count": 76,
   "metadata": {},
   "outputs": [],
   "source": [
    "clear str"
   ]
  },
  {
   "cell_type": "code",
   "execution_count": 77,
   "metadata": {},
   "outputs": [
    {
     "name": "stderr",
     "output_type": "stream",
     "text": [
      "\u001b[0;31mError using eval\n",
      "Undefined function \u001b[0m\u001b[0;31mor variable 'str'.\n",
      "\u001b[0m"
     ]
    }
   ],
   "source": [
    "str"
   ]
  },
  {
   "cell_type": "markdown",
   "metadata": {},
   "source": [
    "To clear all variables from memory:"
   ]
  },
  {
   "cell_type": "code",
   "execution_count": 78,
   "metadata": {},
   "outputs": [],
   "source": [
    "clear"
   ]
  },
  {
   "cell_type": "code",
   "execution_count": 79,
   "metadata": {},
   "outputs": [
    {
     "name": "stderr",
     "output_type": "stream",
     "text": [
      "\u001b[0;31mError using eval\n",
      "Undefined function or \u001b[0m\u001b[0;31mvariable 'my_first_variable'.\n",
      "\u001b[0m"
     ]
    }
   ],
   "source": [
    "my_first_variable"
   ]
  },
  {
   "cell_type": "markdown",
   "metadata": {},
   "source": [
    "### ``disp``"
   ]
  },
  {
   "cell_type": "markdown",
   "metadata": {},
   "source": [
    "To display strings\n",
    "or numbers without printing variable names:"
   ]
  },
  {
   "cell_type": "code",
   "execution_count": 80,
   "metadata": {},
   "outputs": [
    {
     "name": "stdout",
     "output_type": "stream",
     "text": [
      "    3.1416\n"
     ]
    }
   ],
   "source": [
    "disp(pi)"
   ]
  },
  {
   "cell_type": "code",
   "execution_count": 81,
   "metadata": {},
   "outputs": [
    {
     "name": "stdout",
     "output_type": "stream",
     "text": [
      "hello\n"
     ]
    }
   ],
   "source": [
    "disp('hello')"
   ]
  },
  {
   "cell_type": "markdown",
   "metadata": {},
   "source": [
    "We can concatenate multiple strings or numbers, use commas inside a pair of brakets."
   ]
  },
  {
   "cell_type": "code",
   "execution_count": 82,
   "metadata": {},
   "outputs": [
    {
     "name": "stdout",
     "output_type": "stream",
     "text": [
      "Math3607\n"
     ]
    }
   ],
   "source": [
    "disp(['Math', '3607'])"
   ]
  },
  {
   "cell_type": "markdown",
   "metadata": {},
   "source": [
    "Be careful when concatenating two objects of different classes. The next code is wrong."
   ]
  },
  {
   "cell_type": "code",
   "execution_count": 83,
   "metadata": {},
   "outputs": [
    {
     "name": "stdout",
     "output_type": "stream",
     "text": [
      "the value of pi is \u0003\n"
     ]
    }
   ],
   "source": [
    "disp(['the value of pi is ', pi]) "
   ]
  },
  {
   "cell_type": "markdown",
   "metadata": {},
   "source": [
    "We fix the problem by converting the numeric variable ``pi`` (clas ``double``) to a string using ``num2str`` command."
   ]
  },
  {
   "cell_type": "code",
   "execution_count": 84,
   "metadata": {},
   "outputs": [
    {
     "name": "stdout",
     "output_type": "stream",
     "text": [
      "the value of pi is 3.1416\n"
     ]
    }
   ],
   "source": [
    "disp(['the value of pi is ', num2str(pi)]) "
   ]
  },
  {
   "cell_type": "markdown",
   "metadata": {},
   "source": [
    "### Suppressing outputs and commenting"
   ]
  },
  {
   "cell_type": "markdown",
   "metadata": {},
   "source": [
    " * The percentage sign (%) is used to indicate nonexecutable text. This is usually used to add comments to codes which enhances readability if used appropriately.\n",
    " * The semicolon (;) is used to suppress outputs. It allows multiple statements to be executed without printing the intermediate results."
   ]
  },
  {
   "cell_type": "code",
   "execution_count": 85,
   "metadata": {},
   "outputs": [
    {
     "name": "stdout",
     "output_type": "stream",
     "text": [
      "the length of vector <3,4> is 5\n"
     ]
    }
   ],
   "source": [
    "x = 3; y = 4; r = sqrt(x^2 + y^2); disp(['the length of vector <', num2str(x), ',' num2str(y),'> is ', num2str(r)])"
   ]
  },
  {
   "cell_type": "code",
   "execution_count": 86,
   "metadata": {},
   "outputs": [
    {
     "name": "stdout",
     "output_type": "stream",
     "text": [
      "the value of euler number e is 2.7183\n"
     ]
    }
   ],
   "source": [
    "disp(['the value of euler number e is ', num2str(exp(1))]); % this is an exception"
   ]
  },
  {
   "cell_type": "markdown",
   "metadata": {},
   "source": [
    "### Saving your work"
   ]
  },
  {
   "cell_type": "markdown",
   "metadata": {},
   "source": [
    "All commands and outputs can be saved using ``diary`` command.\n",
    "\n",
    " 1. Type ``diary`` on the command window. It will create a file named *diary* in the current working directory. If you want it to have a different name, simply type ``diary [the name you want]``. \n",
    " 2. Do your work. \n",
    " 3. When you are done, type ``diary off``. "
   ]
  },
  {
   "cell_type": "markdown",
   "metadata": {},
   "source": [
    "### For more help"
   ]
  },
  {
   "cell_type": "markdown",
   "metadata": {},
   "source": [
    " * ``help``: help manual on the command window\n",
    " * ``doc``: documentation on a separate window"
   ]
  }
 ],
 "metadata": {
  "kernelspec": {
   "display_name": "Matlab",
   "language": "matlab",
   "name": "matlab"
  },
  "language_info": {
   "codemirror_mode": "octave",
   "file_extension": ".m",
   "help_links": [
    {
     "text": "MetaKernel Magics",
     "url": "https://github.com/calysto/metakernel/blob/master/metakernel/magics/README.md"
    }
   ],
   "mimetype": "text/x-octave",
   "name": "matlab",
   "version": "0.15.0"
  }
 },
 "nbformat": 4,
 "nbformat_minor": 2
}
