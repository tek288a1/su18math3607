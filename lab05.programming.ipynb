{
 "cells": [
  {
   "cell_type": "markdown",
   "metadata": {},
   "source": [
    "# Programming in MatLab\n",
    "\n",
    "Friday, July 6, 2018"
   ]
  },
  {
   "cell_type": "code",
   "execution_count": 1,
   "metadata": {},
   "outputs": [],
   "source": [
    "clear, format short, format compact"
   ]
  },
  {
   "cell_type": "markdown",
   "metadata": {},
   "source": [
    "* (4.2-10) Circle packing problem\n",
    "* (10.1-10) Gaussian elimination without pivoting\n",
    "* (5.8-5) Two-term iteration"
   ]
  },
  {
   "cell_type": "markdown",
   "metadata": {},
   "source": [
    "## 1. Circle packing problem\n",
    "\n",
    "This is Problem 4.2-10. Recall that we wanted to inscribe three circles touching one another inside the circle of radius $r_{\\rm out} = 2$ centered at the origin. By symmetry, the three smaller circle have the same radii $r_{\\rm in}$ and the angle between any two line segments connecting the centers to the origin is $\\phi = 2\\pi/3$.\n",
    "\n",
    "So it suffices to consider any one of the three triangles connecting the origin and two of the centers. It is an obtuse isoscles triangle two of whose sides have length $r_{\\rm out} - r_{\\rm in}$ and the other length $2 r_{\\rm in}$. By [the law of cosines](https://en.wikipedia.org/wiki/Law_of_cosines), we find that\n",
    "$$\n",
    "r_{\\rm in} = r_{\\rm out} \\frac{ \\sqrt{2(1-\\cos \\phi)} }{ 2 + \\sqrt{2 (1-\\cos \\phi)} }.\n",
    "$$\n",
    "\n",
    "With this, we can write a code plotting the desired figure. "
   ]
  },
  {
   "cell_type": "code",
   "execution_count": 1,
   "metadata": {},
   "outputs": [
    {
     "data": {
      "image/png": "[encoded data removed]",
      "text/plain": [
       "<IPython.core.display.Image object>"
      ]
     },
     "metadata": {},
     "output_type": "display_data"
    }
   ],
   "source": [
    "%% parameters\n",
    "r_out = 2;\n",
    "phi = 2*pi/3;  % inner angle\n",
    "\n",
    "%% formula for r_in derived above using the law of cosines\n",
    "r_in = r_out*sqrt(2*(1-cos(phi)))/(2+sqrt(2*(1-cos(phi))));\n",
    "\n",
    "%% centers of inner circle as a COLUMN vector\n",
    "angles = 2*pi*(0:2)'/3;\n",
    "centers = (r_out-r_in)*exp(1i*angles);\n",
    "\n",
    "%% sample points on inner and outer circles\n",
    "theta = linspace(0, 2*pi, 100);\n",
    "z_unit = exp(1i*theta);\n",
    "z_out = r_out*z_unit;\n",
    "Z = centers + r_in*z_unit;\n",
    "\n",
    "% plotting\n",
    "hold off;\n",
    "plot(real(z_out), imag(z_out), 'b');\n",
    "hold on;\n",
    "plot(real(Z(1,:)), imag(Z(1,:)), 'r');\n",
    "plot(real(Z(2,:)), imag(Z(2,:)), 'r');\n",
    "plot(real(Z(3,:)), imag(Z(3,:)), 'r');\n",
    "axis image"
   ]
  },
  {
   "cell_type": "markdown",
   "metadata": {},
   "source": [
    "**Exercise 1.** Modify the previous code so that it generates the figure with $n \\ge 3$ circles inscribed within a single circle. Produce figures for $r_{\\rm out} = 3$ and $n = 4, 5, 10, 20$. "
   ]
  },
  {
   "cell_type": "markdown",
   "metadata": {},
   "source": [
    "## 2. Gaussian elimination with no pivoting\n",
    "\n",
    "This is Problem 10.1-9. We will write a function which calculates the Gaussian elimination of $A\\mathbf{x} = \\mathbf{b}$ without pivoting. The inputs are $A$ and $\\mathbf{b}$ and the output is $\\mathbf{x}$. \n",
    "\n",
    "* Verify the code using `norm` instead of looking at individual elements.\n",
    "* Write two versions of the code using different methods for updating the rows in Gaussian elimination: suppose you are zeroing out elements in the $j$th column below the diagonal and you are working on the $i$th row. \n",
    "    (1) zero out $a_{i,j}$ using the entire row;\n",
    "    (2) zero it out using only $a_{i,j}, a_{i, j+1}, \\ldots, a_{i,n}$.\n",
    "  Solve a linear system for large $n$ using the two functions and see which one runs faster. Use the more efficient one for the rest. \n",
    "* Keep in mind that Gaussian elimination includes the calculation of $\\mathbf{x}$ using backward substitution. "
   ]
  },
  {
   "cell_type": "code",
   "execution_count": 2,
   "metadata": {},
   "outputs": [
    {
     "name": "stdout",
     "output_type": "stream",
     "text": [
      "A =\n",
      "     2     2     1\n",
      "    -4     6     1\n",
      "     5    -5     3\n",
      "b =\n",
      "     6\n",
      "    -8\n",
      "     4\n"
     ]
    }
   ],
   "source": [
    "%% This is a simple system that will get us started\n",
    "A = [2 2 1;\n",
    "    -4 6 1;\n",
    "    5 -5 3]\n",
    "b = [6 -8 4]'\n",
    "A_orig = A;"
   ]
  },
  {
   "cell_type": "code",
   "execution_count": 3,
   "metadata": {},
   "outputs": [
    {
     "name": "stdout",
     "output_type": "stream",
     "text": [
      "U =\n",
      "   2.000000000000000   2.000000000000000   1.000000000000000\n",
      "                   0  10.000000000000000   3.000000000000000\n",
      "                   0                   0   3.500000000000000\n",
      "beta =\n",
      "     6\n",
      "     4\n",
      "    -7\n",
      "ans =\n",
      "     0\n"
     ]
    }
   ],
   "source": [
    "%% Step 1: row operations\n",
    "Ab = [A b];   % augmented matrix\n",
    "% column 1\n",
    "Ab(2,:) = Ab(2,:) - Ab(2,1)/Ab(1,1)*Ab(1,:);\n",
    "Ab(3,:) = Ab(3,:) - Ab(3,1)/Ab(1,1)*Ab(1,:);\n",
    "% column 2\n",
    "Ab(3,:) = Ab(3,:) - Ab(3,2)/Ab(2,2)*Ab(2,:);\n",
    "U = Ab(:,1:end-1)\n",
    "beta = Ab(:,end)\n",
    "\n",
    "%% Step 2: solving U*x = beta by backward substitution\n",
    "x = zeros(3,1);\n",
    "x(3) = beta(3)/U(3,3);\n",
    "x(2) = (beta(2) - U(2,3)*x(3))/U(2,2);\n",
    "x(1) = (beta(1) - U(1,2)*x(2) - U(1,3)*x(3))/U(1,1);\n",
    "\n",
    "%% Check using norm:\n",
    "residual = A*x - b;\n",
    "norm(residual)"
   ]
  },
  {
   "cell_type": "markdown",
   "metadata": {},
   "source": [
    "**Exercise 2.** Modify the previous script by identifying some parameters and using vectorization or loop structure wherever is appropriate. Then write it into a function m-file, `GEnp.m` which begins with\n",
    "```\n",
    "function x = GEnp(A, b)\n",
    "...\n",
    "```"
   ]
  },
  {
   "cell_type": "code",
   "execution_count": 4,
   "metadata": {},
   "outputs": [
    {
     "name": "stdout",
     "output_type": "stream",
     "text": [
      "U =\n",
      "   2.000000000000000   2.000000000000000   1.000000000000000\n",
      "                   0  10.000000000000000   3.000000000000000\n",
      "                   0                   0   3.500000000000000\n",
      "beta =\n",
      "     6\n",
      "     4\n",
      "    -7\n",
      "ans =\n",
      "     0\n"
     ]
    }
   ],
   "source": [
    "%% parameters and preallocation\n",
    "n = size(A,1);\n",
    "x = zeros(n,1);\n",
    "\n",
    "%% Step 1: row operations\n",
    "Ab = [A b];   % augmented matrix\n",
    "for j = 1:n-1\n",
    "    for i = j+1:n\n",
    "        Ab(i,:) = Ab(i,:) - Ab(i,j)/Ab(j,j)*Ab(j,:);\n",
    "    end\n",
    "end\n",
    "U = Ab(:,1:end-1)\n",
    "beta = Ab(:,end)\n",
    "\n",
    "%% Step 2: solving U*x = beta by backward substitution\n",
    "x(n) = beta(n)/U(n,n);\n",
    "for j = n-1:-1:1\n",
    "    x(j) = (beta(j) - U(j,j+1:n)*x(j+1:n))/U(j,j);\n",
    "end\n",
    "\n",
    "%% Check using norm:\n",
    "residual = A*x - b;\n",
    "norm(residual)"
   ]
  },
  {
   "cell_type": "markdown",
   "metadata": {},
   "source": [
    "Now let's turn this script into a function.\n",
    "\n",
    "(**Do not copy the first line ``%%file GEnp.m``.**)"
   ]
  },
  {
   "cell_type": "code",
   "execution_count": 5,
   "metadata": {},
   "outputs": [
    {
     "name": "stdout",
     "output_type": "stream",
     "text": [
      "Created file '/Users/tae/Dropbox/Su18-Math3607/labs/GEnp.m'.\n"
     ]
    }
   ],
   "source": [
    "%%file GEnp.m\n",
    "\n",
    "function x = GEnp(A, b)\n",
    "\n",
    "n = size(A,1);\n",
    "x = zeros(n,1);\n",
    "\n",
    "%% Step 1: row operations\n",
    "Ab = [A b];   % augmented matrix\n",
    "for j = 1:n-1\n",
    "    for i = j+1:n\n",
    "        Ab(i,:) = Ab(i,:) - Ab(i,j)/Ab(j,j)*Ab(j,:);\n",
    "    end\n",
    "end\n",
    "U = Ab(:,1:end-1);\n",
    "beta = Ab(:,end);\n",
    "\n",
    "%% Step 2: solving U*x = beta by backward substitution\n",
    "x(n) = beta(n)/U(n,n);\n",
    "for j = n-1:-1:1\n",
    "    x(j) = (beta(j) - U(j,j+1:n)*x(j+1:n))/U(j,j);\n",
    "end\n",
    "\n",
    "end"
   ]
  },
  {
   "cell_type": "code",
   "execution_count": 6,
   "metadata": {},
   "outputs": [
    {
     "name": "stdout",
     "output_type": "stream",
     "text": [
      "ans =\n",
      "     0\n"
     ]
    }
   ],
   "source": [
    "x  = GEnp(A, b);\n",
    "norm(A*x - b)"
   ]
  },
  {
   "cell_type": "markdown",
   "metadata": {},
   "source": [
    "Following the suggestion, we write a second function which updates rows differently."
   ]
  },
  {
   "cell_type": "code",
   "execution_count": 7,
   "metadata": {},
   "outputs": [
    {
     "name": "stdout",
     "output_type": "stream",
     "text": [
      "Created file '/Users/tae/Dropbox/Su18-Math3607/labs/GEnp1.m'.\n"
     ]
    }
   ],
   "source": [
    "%%file GEnp1.m\n",
    "\n",
    "function x = GEnp1(A, b)\n",
    "\n",
    "n = size(A,1);\n",
    "x = zeros(n,1);\n",
    "\n",
    "%% Step 1: row operations\n",
    "Ab = [A b];   % augmented matrix\n",
    "for j = 1:n-1\n",
    "    for i = j+1:n\n",
    "        Ab(i,j:end) = Ab(i,j:end) - Ab(i,j)/Ab(j,j)*Ab(j,j:end);\n",
    "    end\n",
    "end\n",
    "U = Ab(:,1:end-1);\n",
    "beta = Ab(:,end);\n",
    "\n",
    "%% Step 2: solving U*x = beta by backward substitution\n",
    "x(n) = beta(n)/U(n,n);\n",
    "for j = n-1:-1:1\n",
    "    x(j) = (beta(j) - U(j,j+1:n)*x(j+1:n))/U(j,j);\n",
    "end\n",
    "\n",
    "end"
   ]
  },
  {
   "cell_type": "code",
   "execution_count": 8,
   "metadata": {},
   "outputs": [
    {
     "name": "stdout",
     "output_type": "stream",
     "text": [
      "ans =\n",
      "     0\n"
     ]
    }
   ],
   "source": [
    "x = GEnp1(A, b);\n",
    "norm(A*x - b)"
   ]
  },
  {
   "cell_type": "markdown",
   "metadata": {},
   "source": [
    "Here comes timing."
   ]
  },
  {
   "cell_type": "code",
   "execution_count": 9,
   "metadata": {},
   "outputs": [
    {
     "name": "stdout",
     "output_type": "stream",
     "text": [
      "time1 =\n",
      "   1.856447017000000\n",
      "time2 =\n",
      "   4.456118036000000\n"
     ]
    }
   ],
   "source": [
    "n = 800;\n",
    "A = rand(n);\n",
    "b = rand(n,1);\n",
    "tic, x = GEnp(A, b); time1 = toc()\n",
    "tic, x = GEnp1(A, b); time2 = toc()"
   ]
  },
  {
   "cell_type": "markdown",
   "metadata": {},
   "source": [
    "## 3. Two-term iteration\n",
    "\n",
    "This is Problem 5.8-5. We have three two-term iteration formulas:"
   ]
  },
  {
   "cell_type": "code",
   "execution_count": 10,
   "metadata": {},
   "outputs": [],
   "source": [
    "iter_formula1 = @(a) 4./(5-a);\n",
    "iter_formula2 = @(a) a - 0.1*sin(2*pi*a);\n",
    "iter_formula3 = @(a) a - 0.5*sin(2*pi*a);"
   ]
  },
  {
   "cell_type": "markdown",
   "metadata": {},
   "source": [
    "The fixed point $a$ for the first equation\n",
    "$$\n",
    "a_{n+1} = \\frac{4}{5-a}\n",
    "$$\n",
    "is calculated by solving the quadratic equation obtained by replacing $a_{n}$ and $a_{n+1}$ by $a$:\n",
    "$$\n",
    "a^2 - 5a + 4 = 0,\n",
    "$$\n",
    "whose two roots are $a = 1$ and $a = 4$. \n",
    "\n",
    "**Exercise 4.** Write a script which calculates successively $a_1, a_2, \\ldots, a_20$ given $a_0$. What would be a good way to present the sequence graphically?"
   ]
  },
  {
   "cell_type": "code",
   "execution_count": 11,
   "metadata": {},
   "outputs": [
    {
     "data": {
      "image/png": "[encoded data removed]",
      "text/plain": [
       "<IPython.core.display.Image object>"
      ]
     },
     "metadata": {},
     "output_type": "display_data"
    }
   ],
   "source": [
    "a = 3.9;\n",
    "itermax = 30;\n",
    "iter_formula = iter_formula1;\n",
    "x = linspace(0.8, 4, 100);\n",
    "\n",
    "\n",
    "aa = zeros(2*itermax, 2);\n",
    "for j = 1:itermax\n",
    "    anew = iter_formula(a);\n",
    "    aa(2*j-1,:) = [a, anew];\n",
    "    aa(2*j, :) = [anew, anew];\n",
    "    a = anew;\n",
    "end\n",
    "hold off\n",
    "\n",
    "plot(aa(:,1), aa(:,2))\n",
    "hold on\n",
    "plot(aa(1,1), aa(1,2), 'r.', 'markersize', 20)   % initial iterate\n",
    "plot(aa(end,1), aa(end,2), 'b.', 'markersize', 20)  % terminal iterate\n",
    "plot(x, x)\n",
    "plot(x, iter_formula(x))\n",
    "axis image\n",
    "grid on\n"
   ]
  }
 ],
 "metadata": {
  "kernelspec": {
   "display_name": "Matlab",
   "language": "matlab",
   "name": "matlab"
  },
  "language_info": {
   "codemirror_mode": "octave",
   "file_extension": ".m",
   "help_links": [
    {
     "text": "MetaKernel Magics",
     "url": "https://github.com/calysto/metakernel/blob/master/metakernel/magics/README.md"
    }
   ],
   "mimetype": "text/x-octave",
   "name": "matlab",
   "version": "0.15.0"
  }
 },
 "nbformat": 4,
 "nbformat_minor": 2
}
