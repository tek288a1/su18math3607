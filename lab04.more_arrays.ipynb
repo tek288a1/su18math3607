{
 "cells": [
  {
   "cell_type": "markdown",
   "metadata": {},
   "source": [
    "# More on arrays"
   ]
  },
  {
   "cell_type": "markdown",
   "metadata": {
    "slideshow": {
     "slide_type": "slide"
    }
   },
   "source": [
    "## Table of Contents\n",
    "* [The `find` function](#find_function)\n",
    "* [Tables using arrays](#tables_using_arrays)\n",
    "* [Data manipulation](#data_manipulation)"
   ]
  },
  {
   "cell_type": "code",
   "execution_count": 23,
   "metadata": {},
   "outputs": [],
   "source": [
    "clear, format short g, format compact"
   ]
  },
  {
   "cell_type": "markdown",
   "metadata": {},
   "source": [
    "<a id='find_function'></a>\n",
    "## The `find` function\n",
    "\n",
    "\n",
    "### Vectors\n",
    "\n",
    "The `find` function locates all the elements of a certain array satisfying simples conditions. Let's begin by examining the following simples exampls. "
   ]
  },
  {
   "cell_type": "code",
   "execution_count": 30,
   "metadata": {},
   "outputs": [
    {
     "name": "stdout",
     "output_type": "stream",
     "text": [
      "nrs =\n",
      "     6    -4     1     4     8    10     1    -7    -7    -4     7    -4\n"
     ]
    }
   ],
   "source": [
    "nrs = randi(20, 1, 12) - 10 \n",
    "nrs_orig = nrs; % save the original data"
   ]
  },
  {
   "cell_type": "markdown",
   "metadata": {},
   "source": [
    "**Task 1.** Find the indices of all elements which are negative."
   ]
  },
  {
   "cell_type": "code",
   "execution_count": 31,
   "metadata": {},
   "outputs": [
    {
     "name": "stdout",
     "output_type": "stream",
     "text": [
      "ind1 =\n",
      "     2     8     9    10    12\n"
     ]
    }
   ],
   "source": [
    "ind1 = find(nrs < 0)"
   ]
  },
  {
   "cell_type": "markdown",
   "metadata": {},
   "source": [
    "**Task 2.** Find the indices of all nonnegative elements."
   ]
  },
  {
   "cell_type": "code",
   "execution_count": 32,
   "metadata": {},
   "outputs": [
    {
     "name": "stdout",
     "output_type": "stream",
     "text": [
      "ind2 =\n",
      "     1     3     4     5     6     7    11\n"
     ]
    }
   ],
   "source": [
    "ind2 = find(nrs >= 0)"
   ]
  },
  {
   "cell_type": "markdown",
   "metadata": {},
   "source": [
    "**Task 3.** Find the number of 1's."
   ]
  },
  {
   "cell_type": "code",
   "execution_count": 33,
   "metadata": {},
   "outputs": [
    {
     "name": "stdout",
     "output_type": "stream",
     "text": [
      "ans =\n",
      "     2\n"
     ]
    }
   ],
   "source": [
    "ind3 = find(nrs == 1); % note the use of ==\n",
    "length(ind3)"
   ]
  },
  {
   "cell_type": "markdown",
   "metadata": {},
   "source": [
    "**Task 4.** Print out all the elements which are greater than $-5$."
   ]
  },
  {
   "cell_type": "code",
   "execution_count": 34,
   "metadata": {},
   "outputs": [
    {
     "name": "stdout",
     "output_type": "stream",
     "text": [
      "ans =\n",
      "     6    -4     1     4     8    10     1    -4     7    -4\n"
     ]
    }
   ],
   "source": [
    "ind4 = find(nrs > -5);\n",
    "nrs(ind4)"
   ]
  },
  {
   "cell_type": "markdown",
   "metadata": {},
   "source": [
    "**Task 5.** Replace all the elements which are less than or equal to $-5$ by $-5$."
   ]
  },
  {
   "cell_type": "code",
   "execution_count": 35,
   "metadata": {},
   "outputs": [
    {
     "name": "stdout",
     "output_type": "stream",
     "text": [
      "nrs =\n",
      "     6    -4     1     4     8    10     1    -5    -5    -4     7    -4\n"
     ]
    }
   ],
   "source": [
    "ind5 = find(nrs <= -5);\n",
    "nrs(ind5) = -5"
   ]
  },
  {
   "cell_type": "markdown",
   "metadata": {},
   "source": [
    "### Matrices\n",
    "The function can also be applied to matrices. "
   ]
  },
  {
   "cell_type": "code",
   "execution_count": 52,
   "metadata": {},
   "outputs": [
    {
     "name": "stdout",
     "output_type": "stream",
     "text": [
      "Nrs =\n",
      "     4     0    -5    -6     1    -8\n",
      "     5    -8     9     7    10    -1\n"
     ]
    }
   ],
   "source": [
    "Nrs = randi(20, 2, 6) - 10\n",
    "Nrs_orig = Nrs;"
   ]
  },
  {
   "cell_type": "markdown",
   "metadata": {},
   "source": [
    "Let's locate the elements that are greater than $0$."
   ]
  },
  {
   "cell_type": "code",
   "execution_count": 53,
   "metadata": {},
   "outputs": [
    {
     "name": "stdout",
     "output_type": "stream",
     "text": [
      "ij =\n",
      "     1\n",
      "     2\n",
      "     6\n",
      "     8\n",
      "     9\n",
      "    10\n"
     ]
    }
   ],
   "source": [
    "ij = find(Nrs > 0)"
   ]
  },
  {
   "cell_type": "markdown",
   "metadata": {},
   "source": [
    "Note that the output is a list of *scalar* indices, not of the standard *2-vector* indices of matrices like $(1,3)$. The reason is that these indices apply to the column vector obtained from `Nrs` using the colon operator:"
   ]
  },
  {
   "cell_type": "code",
   "execution_count": 54,
   "metadata": {},
   "outputs": [
    {
     "name": "stdout",
     "output_type": "stream",
     "text": [
      "ans =\n",
      "     4\n",
      "     5\n",
      "     0\n",
      "    -8\n",
      "    -5\n",
      "     9\n",
      "    -6\n",
      "     7\n",
      "     1\n",
      "    10\n",
      "    -8\n",
      "    -1\n"
     ]
    }
   ],
   "source": [
    "Nrs(:)"
   ]
  },
  {
   "cell_type": "markdown",
   "metadata": {},
   "source": [
    "To locate these elements visually, let's replace them by 200."
   ]
  },
  {
   "cell_type": "code",
   "execution_count": 55,
   "metadata": {},
   "outputs": [
    {
     "name": "stdout",
     "output_type": "stream",
     "text": [
      "Nrs =\n",
      "   200     0    -5    -6   200    -8\n",
      "   200    -8   200   200   200    -1\n"
     ]
    }
   ],
   "source": [
    "Nrs(ij) = 200;\n",
    "Nrs"
   ]
  },
  {
   "cell_type": "markdown",
   "metadata": {},
   "source": [
    "**Warning.** The syntax\n",
    "```\n",
    ">> [i, j] = find(.....)\n",
    "```\n",
    "also works, but it is not recommended for use. Stick with\n",
    "```\n",
    ">> ij = find(.....)\n",
    "```\n",
    "\n",
    "As an illustration, let's re-do what we did above."
   ]
  },
  {
   "cell_type": "code",
   "execution_count": 58,
   "metadata": {},
   "outputs": [
    {
     "name": "stdout",
     "output_type": "stream",
     "text": [
      "Nrs =\n",
      "   200     0   200   200   200    -8\n",
      "   200    -8   200   200   200    -1\n"
     ]
    }
   ],
   "source": [
    "Nrs = Nrs_orig; % recover original\n",
    "[i, j] = find(Nrs > 0);\n",
    "Nrs(i,j) = 200;\n",
    "Nrs"
   ]
  },
  {
   "cell_type": "markdown",
   "metadata": {},
   "source": [
    "This obviously is different from the previous result. (In some rare cases, your answer may be the same as above, but in general it will not be.)\n",
    "\n",
    "What do you think is happening?"
   ]
  },
  {
   "cell_type": "markdown",
   "metadata": {},
   "source": [
    "<a id='tables_using_arrays'></a>\n",
    "## Tables using arrays\n",
    "\n",
    "Here, we revisit the Stirling's formula example. \n",
    "\n",
    "**Example (Stirling).** Calculate $n!$ for $n = 2, 4, 6, \\ldots, 20$ using both `factorial` and the Stirling's formula and calculate absolute and relative errors. Then tabulate the results. "
   ]
  },
  {
   "cell_type": "code",
   "execution_count": 61,
   "metadata": {},
   "outputs": [
    {
     "name": "stdout",
     "output_type": "stream",
     "text": [
      "            n           n!     stirling      abs_err      rel_err\n",
      "            2            2        1.919    -0.080996    -0.040498\n",
      "            4           24       23.506     -0.49382    -0.020576\n",
      "            6          720       710.08      -9.9218     -0.01378\n",
      "            8        40320        39902       -417.6    -0.010357\n",
      "           10   3.6288e+06   3.5987e+06       -30104    -0.008296\n",
      "           12     4.79e+08   4.7569e+08  -3.3141e+06   -0.0069188\n",
      "           14   8.7178e+10   8.6661e+10  -5.1729e+08   -0.0059337\n",
      "           16   2.0923e+13   2.0814e+13  -1.0868e+11   -0.0051941\n",
      "           18   6.4024e+15   6.3728e+15  -2.9569e+13   -0.0046185\n",
      "           20   2.4329e+18   2.4228e+18  -1.0115e+16   -0.0041577\n"
     ]
    }
   ],
   "source": [
    "n = 20;\n",
    "n_vec = (2:2:n)';\n",
    "fact = factorial(n_vec);\n",
    "stir = sqrt(2*pi*n_vec).*(n_vec/exp(1)).^(n_vec);\n",
    "abs_err = stir - fact;\n",
    "rel_err = stir./fact - 1;\n",
    "T = [n_vec, fact, stir, abs_err, rel_err];\n",
    "disp('            n           n!     stirling      abs_err      rel_err');\n",
    "format compact;\n",
    "format short g;\n",
    "disp(T);"
   ]
  },
  {
   "cell_type": "markdown",
   "metadata": {},
   "source": [
    "Note we logged all the results in a single matrix and used the `disp` function once to output all of them. The header positions (line 8) were obtained by trial and error."
   ]
  },
  {
   "cell_type": "markdown",
   "metadata": {},
   "source": [
    "**Example (Distance).** Suppose we sample $n$ points on the curve $y = x + \\sin(2 \\pi x)$ for $n$ equally spaced points $x_j$ in $[0,1]$. Tabulate the distance between adjacent points $(x_{j+1}, y_{j+1})$ and $(x_j, y_j)$ for $1 \\le j \\le n-1$. "
   ]
  },
  {
   "cell_type": "code",
   "execution_count": 81,
   "metadata": {},
   "outputs": [
    {
     "name": "stdout",
     "output_type": "stream",
     "text": [
      " n           x          ds\n",
      " 1           0     0.69502\n",
      " 2         0.1     0.47394\n",
      " 3         0.2     0.14142\n",
      " 4         0.3     0.28162\n",
      " 5         0.4     0.49793\n",
      " 6         0.5     0.49793\n",
      " 7         0.6     0.28162\n",
      " 8         0.7     0.14142\n",
      " 9         0.8     0.47394\n",
      "10         0.9     0.69502\n",
      "11           1\n"
     ]
    }
   ],
   "source": [
    "n = 11;\n",
    "x = linspace(0, 1, n)';\n",
    "y = x + sin(2*pi*x);\n",
    "dx = x(2:end) - x(1:end-1);\n",
    "dy = y(2:end) - y(1:end-1);\n",
    "ds = sqrt(dx.^2 + dy.^2);\n",
    "T = [[1:n-1]', x(1:end-1), ds];\n",
    "format compact;\n",
    "format short g;\n",
    "disp(' n           x          ds')\n",
    "disp(num2str(T, 5))\n",
    "disp(num2str([n, x(end)], 5))"
   ]
  },
  {
   "cell_type": "markdown",
   "metadata": {},
   "source": [
    "Note in line 11 and 12 that we used `num2str` to turn arrays of numbers into those of character strings. The intension was to align columns of two arrays with different dimensions. See what I mean by replacing the two lines by\n",
    "```\n",
    "disp(T)\n",
    "disp([n, x(end)])\n",
    "```\n",
    "\n",
    "The result above can be visualized using `plot` as well. For example:"
   ]
  },
  {
   "cell_type": "code",
   "execution_count": 82,
   "metadata": {},
   "outputs": [
    {
     "data": {
      "image/png": "[encoded data removed]",
      "text/plain": [
       "<IPython.core.display.Image object>"
      ]
     },
     "metadata": {},
     "output_type": "display_data"
    }
   ],
   "source": [
    "plot(x, y, 'ro')\n",
    "hold on \n",
    "plot(x, y)"
   ]
  },
  {
   "cell_type": "markdown",
   "metadata": {},
   "source": [
    "<a id='data_manipulation'></a>\n",
    "## Data manipulation\n",
    "\n",
    "In this section, we showcase MATLAB functions suitable for data manipulation. \n",
    "\n",
    "First, download [data file](data/some_data.dat \"some_data.dat\") into your current directory."
   ]
  },
  {
   "cell_type": "code",
   "execution_count": 83,
   "metadata": {},
   "outputs": [],
   "source": []
  },
  {
   "cell_type": "code",
   "execution_count": null,
   "metadata": {},
   "outputs": [],
   "source": []
  }
 ],
 "metadata": {
  "kernelspec": {
   "display_name": "Matlab",
   "language": "matlab",
   "name": "matlab"
  },
  "language_info": {
   "codemirror_mode": "octave",
   "file_extension": ".m",
   "help_links": [
    {
     "text": "MetaKernel Magics",
     "url": "https://github.com/calysto/metakernel/blob/master/metakernel/magics/README.md"
    }
   ],
   "mimetype": "text/x-octave",
   "name": "matlab",
   "version": "0.15.0"
  }
 },
 "nbformat": 4,
 "nbformat_minor": 2
}
